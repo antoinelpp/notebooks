{
 "cells": [
  {
   "cell_type": "markdown",
   "metadata": {
    "slideshow": {
     "slide_type": "slide"
    },
    "tags": [
     "tag1"
    ]
   },
   "source": [
    "# A quick introduction to profilers\n",
    "##  Valgrind and Gprof\n",
    "\n",
    "\n",
    "So that you can skip the long struggle I've been throught"
   ]
  },
  {
   "cell_type": "markdown",
   "metadata": {
    "slideshow": {
     "slide_type": "fragment"
    }
   },
   "source": [
    "\n",
    "OpenSorce and Free framework for dynamic analysis tools:\n",
    "\n",
    "* memory error detector, ✔️\n",
    "* two thread error detectors,\n",
    "* cache and branch-prediction profiler,\n",
    "* call-graph generating cache and branch-prediction profiler,\n",
    "* heap profiler ✔️\n",
    "\n",
    "**Installation : **\n",
    "Donwload and install from : http://valgrind.org/downloads/current.html\n"
   ]
  },
  {
   "cell_type": "markdown",
   "metadata": {
    "slideshow": {
     "slide_type": "slide"
    }
   },
   "source": [
    "## Memory Error :\n",
    "\n",
    "It can detect Memory access error and Memory leaks, quite usefull in C/C++\n",
    "\n",
    "Just run : `valgrind --tool=memcheck <your_exe> <exe options>`\n",
    "\n",
    " "
   ]
  },
  {
   "cell_type": "markdown",
   "metadata": {
    "slideshow": {
     "slide_type": "fragment"
    }
   },
   "source": [
    "\n",
    "```bash\n",
    "LEAK SUMMARY:\n",
    "   definitely lost: 48 bytes in 3 blocks.\n",
    "   indirectly lost: 32 bytes in 2 blocks.\n",
    "     possibly lost: 96 bytes in 6 blocks.\n",
    "   still reachable: 64 bytes in 4 blocks.\n",
    "        suppressed: 0 bytes in 0 blocks.\n",
    "        \n",
    "8 bytes in 1 blocks are definitely lost in loss record 1 of 14\n",
    "   at 0x........: malloc (vg_replace_malloc.c:...)\n",
    "   by 0x........: mk (leak-tree.c:11)\n",
    "   by 0x........: main (leak-tree.c:39)\n",
    "\n",
    "88 (8 direct, 80 indirect) bytes in 1 blocks are definitely lost in loss record 13 of 14\n",
    "   at 0x........: malloc (vg_replace_malloc.c:...)\n",
    "   by 0x........: mk (leak-tree.c:11)\n",
    "   by 0x........: main (leak-tree.c:25)\n",
    "        ```"
   ]
  },
  {
   "cell_type": "markdown",
   "metadata": {
    "collapsed": true,
    "slideshow": {
     "slide_type": "slide"
    }
   },
   "source": [
    "## Heap profiler \n",
    "\n",
    "Usefull when memory storage is limmited (thanks PIC). **⚠️** slow down ~40x\n",
    "\n",
    "Just run : `valgrind --tool=massif <your_exe> <exe options> && ms_print massif.out`\n",
    "\n",
    "\n"
   ]
  },
  {
   "cell_type": "markdown",
   "metadata": {
    "slideshow": {
     "slide_type": "subslide"
    }
   },
   "source": [
    "There is an exemple : \n",
    "\n",
    "```C\n",
    " 1      #include <stdlib.h>\n",
    " 2\n",
    " 3      void g(void)\n",
    " 4      {\n",
    " 5         malloc(4000);\n",
    " 6      }\n",
    " 7\n",
    " 8      void f(void)\n",
    " 9      {\n",
    "10         malloc(2000);\n",
    "11         g();\n",
    "12      }\n",
    "13\n",
    "14      int main(void)\n",
    "15      {\n",
    "16         int i;\n",
    "17         int* a[10];\n",
    "18\n",
    "19         for (i = 0; i < 10; i++) {\n",
    "20            a[i] = malloc(1000);\n",
    "21         }\n",
    "22\n",
    "23         f();\n",
    "24\n",
    "25         g();\n",
    "26\n",
    "27         for (i = 0; i < 10; i++) {\n",
    "28            free(a[i]);\n",
    "29         }\n",
    "30\n",
    "31         return 0;\n",
    "32      }    \n",
    "```"
   ]
  },
  {
   "cell_type": "markdown",
   "metadata": {
    "slideshow": {
     "slide_type": "subslide"
    }
   },
   "source": [
    "```bash\n",
    "9.63^                                               ###                      \n",
    "     |                                              #                        \n",
    "     |                                              #  ::                    \n",
    "     |                                              #  : :::                 \n",
    "     |                                     :::::::::#  : :  ::               \n",
    "     |                                     :        #  : :  : ::             \n",
    "     |                                     :        #  : :  : : :::          \n",
    "     |                                     :        #  : :  : : :  ::        \n",
    "     |                           :::::::::::        #  : :  : : :  : :::     \n",
    "     |                           :         :        #  : :  : : :  : :  ::   \n",
    "     |                       :::::         :        #  : :  : : :  : :  : :: \n",
    "     |                    @@@:   :         :        #  : :  : : :  : :  : : @\n",
    "     |                  ::@  :   :         :        #  : :  : : :  : :  : : @\n",
    "     |               :::: @  :   :         :        #  : :  : : :  : :  : : @\n",
    "     |             :::  : @  :   :         :        #  : :  : : :  : :  : : @\n",
    "     |           ::: :  : @  :   :         :        #  : :  : : :  : :  : : @\n",
    "     |        :::: : :  : @  :   :         :        #  : :  : : :  : :  : : @\n",
    "     |      :::  : : :  : @  :   :         :        #  : :  : : :  : :  : : @\n",
    "     |   :::: :  : : :  : @  :   :         :        #  : :  : : :  : :  : : @\n",
    "     | :::  : :  : : :  : @  :   :         :        #  : :  : : :  : :  : : @\n",
    "   0 +----------------------------------------------------------------------->KB     0                                                                   29.48\n",
    "\n",
    "Number of snapshots: 25\n",
    " Detailed snapshots: [9, 14 (peak), 24]\n",
    " ```"
   ]
  },
  {
   "cell_type": "markdown",
   "metadata": {
    "slideshow": {
     "slide_type": "subslide"
    }
   },
   "source": [
    "```bash \n",
    "--------------------------------------------------------------------------------\n",
    "  n     time(B)     total(B) useful-heap(B) extra-heap(B)  stacks(B)\n",
    "---------------------------------------------------------------------\n",
    " 10      10,080       10,080         10,000            80          0\n",
    " 11      12,088       12,088         12,000            88          0\n",
    " 12      16,096       16,096         16,000            96          0\n",
    " 13      20,104       20,104         20,000           104          0\n",
    " 14      20,104       20,104         20,000           104          0\n",
    " \n",
    "99.48% (20,000B) (heap allocation functions) malloc/new/new[], --alloc-fns, etc.\n",
    "->49.74% (10,000B) 0x804841A: main (example.c:20)\n",
    "| \n",
    "->39.79% (8,000B) 0x80483C2: g (example.c:5)\n",
    "| ->19.90% (4,000B) 0x80483E2: f (example.c:11)\n",
    "| | ->19.90% (4,000B) 0x8048431: main (example.c:23)\n",
    "| |   \n",
    "| ->19.90% (4,000B) 0x8048436: main (example.c:25)\n",
    "|   \n",
    "->09.95% (2,000B) 0x80483DA: f (example.c:10)\n",
    "  ->09.95% (2,000B) 0x8048431: main (example.c:23)\n",
    "  \n",
    "  ```"
   ]
  },
  {
   "cell_type": "markdown",
   "metadata": {
    "slideshow": {
     "slide_type": "slide"
    }
   },
   "source": [
    "### Speed profiler : gprof\n",
    "\n",
    "For speed performence : I'm using GNU profiler `gprof` in Fortran and C/C++\n",
    "\n",
    "* Compile with `-gp`\n",
    "* exect as usual `< your_exe >`\n",
    "* read `gprof <your_exe> gmont.out`"
   ]
  },
  {
   "cell_type": "markdown",
   "metadata": {
    "ExecuteTime": {
     "end_time": "2017-08-30T11:24:44.629213Z",
     "start_time": "2017-08-30T11:24:44.625400Z"
    },
    "slideshow": {
     "slide_type": "subslide"
    }
   },
   "source": [
    "### flat profile: Time taken by each function\n",
    "```bash\n",
    "Each sample counts as 0.01 seconds.\n",
    "  %   cumulative   self              \n",
    " time   seconds   seconds    calls     name\n",
    " 58.56    219.11   219.11     2268   functions_mp_extract_grid_\n",
    " 21.52    299.63    80.52      161   functions_mp_motion_boundaries_\n",
    "  8.58    331.73    32.10      162   functions_mp_extrapolation_\n",
    "  3.49    344.80    13.07 54495528   functions_mp_boris_rotation_\n",
    "  3.38    357.44    12.64 876903620  walls_mp_periodicity_\n",
    "  3.04    368.83    11.39      161   mccollisions_mp_monte_carlo_collisions_\n",
    "  0.31    369.99     1.16      162   hist_diag_mp_diagnostics_run_\n",
    "  0.20    370.72     0.73      162   functions_mp_particle_to_grid_\n",
    "  0.18    371.40     0.68            __intel_rtc_CheckStackVars\n",
    "  0.14    371.94     0.54            walls_mp_injecting_couples_\n",
    "```"
   ]
  },
  {
   "cell_type": "markdown",
   "metadata": {
    "ExecuteTime": {
     "end_time": "2017-08-30T11:25:08.789972Z",
     "start_time": "2017-08-30T11:25:08.778508Z"
    },
    "slideshow": {
     "slide_type": "subslide"
    }
   },
   "source": [
    "### Granularity : function decomposition\n",
    "```bash\n",
    "% time    self  children    called     name\n",
    "  61.7    0.73  230.25     162       functions_mp_particle_to_grid\n",
    "        219.11   11.07    2268/2268    functions_mp_extract_grid\n",
    "          0.06    0.00    2428/2750    functions_mp_grid_exchange_\n",
    "          0.01    0.00    2428/2750    functions_mp_edges_\n",
    "```"
   ]
  },
  {
   "cell_type": "code",
   "execution_count": null,
   "metadata": {
    "collapsed": true,
    "slideshow": {
     "slide_type": "notes"
    }
   },
   "outputs": [],
   "source": []
  }
 ],
 "metadata": {
  "celltoolbar": "Slideshow",
  "kernelspec": {
   "display_name": "Python 3",
   "language": "python",
   "name": "python3"
  },
  "language_info": {
   "codemirror_mode": {
    "name": "ipython",
    "version": 3
   },
   "file_extension": ".py",
   "mimetype": "text/x-python",
   "name": "python",
   "nbconvert_exporter": "python",
   "pygments_lexer": "ipython3",
   "version": "3.5.2"
  },
  "varInspector": {
   "cols": {
    "lenName": 16,
    "lenType": 16,
    "lenVar": 40
   },
   "kernels_config": {
    "python": {
     "delete_cmd_postfix": "",
     "delete_cmd_prefix": "del ",
     "library": "var_list.py",
     "varRefreshCmd": "print(var_dic_list())"
    },
    "r": {
     "delete_cmd_postfix": ") ",
     "delete_cmd_prefix": "rm(",
     "library": "var_list.r",
     "varRefreshCmd": "cat(var_dic_list()) "
    }
   },
   "types_to_exclude": [
    "module",
    "function",
    "builtin_function_or_method",
    "instance",
    "_Feature"
   ],
   "window_display": false
  }
 },
 "nbformat": 4,
 "nbformat_minor": 2
}
