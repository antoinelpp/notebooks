{
 "cells": [
  {
   "cell_type": "markdown",
   "metadata": {},
   "source": [
    "# Speeding up The Z function\n",
    "\n",
    "So the main time consumed to solve the electrostatic function is actually the evaluation of the function itself !\n",
    "\n",
    "We will try to improve it's evaluation time\n"
   ]
  },
  {
   "cell_type": "code",
   "execution_count": 1,
   "metadata": {
    "ExecuteTime": {
     "end_time": "2018-08-03T11:25:26.599236Z",
     "start_time": "2018-08-03T11:25:26.362107Z"
    },
    "code_folding": [
     0
    ]
   },
   "outputs": [],
   "source": [
    "#import the functions\n",
    "from scipy.special import wofz\n",
    "import numpy as np\n",
    "np.random.seed()\n",
    "\n",
    "import matplotlib as plt\n",
    "%load_ext line_profiler"
   ]
  },
  {
   "cell_type": "code",
   "execution_count": 2,
   "metadata": {
    "ExecuteTime": {
     "end_time": "2018-08-03T11:25:26.608247Z",
     "start_time": "2018-08-03T11:25:26.601371Z"
    },
    "code_folding": [
     0
    ]
   },
   "outputs": [],
   "source": [
    "#total size, for the cache estimation\n",
    "from sys import getsizeof, stderr\n",
    "from itertools import chain\n",
    "from collections import deque\n",
    "try:\n",
    "    from reprlib import repr\n",
    "except ImportError:\n",
    "    pass\n",
    "\n",
    "def total_size(o, handlers={}, verbose=False):\n",
    "    \"\"\" Returns the approximate memory footprint an object and all of its contents.\n",
    "\n",
    "    Automatically finds the contents of the following builtin containers and\n",
    "    their subclasses:  tuple, list, deque, dict, set and frozenset.\n",
    "    To search other containers, add handlers to iterate over their contents:\n",
    "\n",
    "        handlers = {SomeContainerClass: iter,\n",
    "                    OtherContainerClass: OtherContainerClass.get_elements}\n",
    "\n",
    "    \"\"\"\n",
    "    dict_handler = lambda d: chain.from_iterable(d.items())\n",
    "    all_handlers = {tuple: iter,\n",
    "                    list: iter,\n",
    "                    deque: iter,\n",
    "                    dict: dict_handler,\n",
    "                    set: iter,\n",
    "                    frozenset: iter,\n",
    "                   }\n",
    "    all_handlers.update(handlers)     # user handlers take precedence\n",
    "    seen = set()                      # track which object id's have already been seen\n",
    "    default_size = getsizeof(0)       # estimate sizeof object without __sizeof__\n",
    "\n",
    "    def sizeof(o):\n",
    "        if id(o) in seen:       # do not double count the same object\n",
    "            return 0\n",
    "        seen.add(id(o))\n",
    "        s = getsizeof(o, default_size)\n",
    "\n",
    "        if verbose:\n",
    "            print(s, type(o), repr(o), file=stderr)\n",
    "\n",
    "        for typ, handler in all_handlers.items():\n",
    "            if isinstance(o, typ):\n",
    "                s += sum(map(sizeof, handler(o)))\n",
    "                break\n",
    "        return s\n",
    "\n",
    "    return sizeof(o)"
   ]
  },
  {
   "cell_type": "code",
   "execution_count": 3,
   "metadata": {
    "ExecuteTime": {
     "end_time": "2018-08-03T11:25:26.625345Z",
     "start_time": "2018-08-03T11:25:26.610571Z"
    }
   },
   "outputs": [],
   "source": [
    "N_cases = 10000\n",
    "w = np.random.uniform(-10, 10, N_cases) + 1.j * np.random.uniform(-10, 10, N_cases)"
   ]
  },
  {
   "cell_type": "code",
   "execution_count": 4,
   "metadata": {
    "ExecuteTime": {
     "end_time": "2018-08-03T11:25:28.836302Z",
     "start_time": "2018-08-03T11:25:26.627367Z"
    }
   },
   "outputs": [
    {
     "name": "stdout",
     "output_type": "stream",
     "text": [
      "2.68 ms ± 205 µs per loop (mean ± std. dev. of 7 runs, 100 loops each)\n"
     ]
    }
   ],
   "source": [
    "%%timeit\n",
    "z_w = wofz(w)"
   ]
  },
  {
   "cell_type": "markdown",
   "metadata": {
    "ExecuteTime": {
     "end_time": "2018-08-03T08:42:53.352406Z",
     "start_time": "2018-08-03T08:42:53.347003Z"
    }
   },
   "source": [
    "# Unvectorizing it\n",
    "\n",
    "Ok, so Alexis think that we can speed up the function using a cache.\n",
    "Unfortunatly, the cache do not work with numpy array\n",
    "\n",
    "So wee will check if un-vectorizing the call can allow us to gain from the cache"
   ]
  },
  {
   "cell_type": "code",
   "execution_count": 5,
   "metadata": {
    "ExecuteTime": {
     "end_time": "2018-08-03T11:25:28.849151Z",
     "start_time": "2018-08-03T11:25:28.840755Z"
    },
    "code_folding": []
   },
   "outputs": [],
   "source": [
    "def unvect_wofz(ws):\n",
    "    z = np.zeros(len(ws), dtype=\"complex128\")\n",
    "    for i,w in enumerate(ws):\n",
    "        z[i] = wofz(w)\n",
    "    return z"
   ]
  },
  {
   "cell_type": "code",
   "execution_count": 6,
   "metadata": {
    "ExecuteTime": {
     "end_time": "2018-08-03T11:25:30.389396Z",
     "start_time": "2018-08-03T11:25:28.852633Z"
    }
   },
   "outputs": [
    {
     "name": "stdout",
     "output_type": "stream",
     "text": [
      "18.5 ms ± 1.02 ms per loop (mean ± std. dev. of 7 runs, 10 loops each)\n"
     ]
    }
   ],
   "source": [
    "%%timeit\n",
    "z_w = unvect_wofz(w)"
   ]
  },
  {
   "cell_type": "code",
   "execution_count": 7,
   "metadata": {
    "ExecuteTime": {
     "end_time": "2018-08-03T11:25:30.433024Z",
     "start_time": "2018-08-03T11:25:30.390966Z"
    }
   },
   "outputs": [
    {
     "name": "stdout",
     "output_type": "stream",
     "text": [
      "Timer unit: 1e-06 s\n",
      "\n",
      "Total time: 0.027457 s\n",
      "File: <ipython-input-5-28e2f432af96>\n",
      "Function: unvect_wofz at line 1\n",
      "\n",
      "Line #      Hits         Time  Per Hit   % Time  Line Contents\n",
      "==============================================================\n",
      "     1                                           def unvect_wofz(ws):\n",
      "     2         1        137.0    137.0      0.5      z = np.zeros(len(ws), dtype=\"complex128\")\n",
      "     3     10001       5756.0      0.6     21.0      for i,w in enumerate(ws):\n",
      "     4     10000      21563.0      2.2     78.5          z[i] = wofz(w)\n",
      "     5         1          1.0      1.0      0.0      return z\n",
      "\n"
     ]
    }
   ],
   "source": [
    "a = %lprun -r -f unvect_wofz z_w = unvect_wofz(w)\n",
    "a.print_stats()"
   ]
  },
  {
   "cell_type": "markdown",
   "metadata": {},
   "source": [
    "Well, even if we can gain a factor 10 with the cache, we loose a factor 10 with the unfectorasition\n",
    "\n",
    "\n",
    "# With Cython"
   ]
  },
  {
   "cell_type": "code",
   "execution_count": 8,
   "metadata": {
    "ExecuteTime": {
     "end_time": "2018-08-03T11:25:30.846175Z",
     "start_time": "2018-08-03T11:25:30.435678Z"
    }
   },
   "outputs": [],
   "source": [
    "%load_ext Cython"
   ]
  },
  {
   "cell_type": "code",
   "execution_count": 9,
   "metadata": {
    "ExecuteTime": {
     "end_time": "2018-08-03T11:25:30.850720Z",
     "start_time": "2018-08-03T11:25:30.848129Z"
    }
   },
   "outputs": [],
   "source": [
    "z = np.ndarray(N_cases, dtype=np.complex128)"
   ]
  },
  {
   "cell_type": "code",
   "execution_count": 10,
   "metadata": {
    "ExecuteTime": {
     "end_time": "2018-08-03T11:25:32.377006Z",
     "start_time": "2018-08-03T11:25:30.852504Z"
    }
   },
   "outputs": [],
   "source": [
    "%%cython -f -c=-O3 \n",
    "\n",
    "import numpy as np\n",
    "cimport numpy as np\n",
    "\n",
    "from scipy.special.cython_special cimport wofz as cwofz\n",
    "\n",
    "\n",
    "DTYPE_c = np.complex128\n",
    "ctypedef np.complex128_t DTYPE_c_t\n",
    "cy_dict = {}\n",
    "# @cython.boundscheck(False) # turn off bounds-checking for entire function\n",
    "# @cython.wraparound(False)  # turn off negative index wrapping for entire function\n",
    "def cythonwrapper_wofz(np.ndarray[DTYPE_c_t, ndim=1] w  not None, np.ndarray[DTYPE_c_t, ndim=1] output not None):\n",
    "    assert w.dtype == DTYPE_c and output.dtype == DTYPE_c\n",
    "    cython_wofz(w.shape[0], &w[0], &output[0] )\n",
    "\n",
    "cdef cython_wofz(int n, DTYPE_c_t *w, DTYPE_c_t *output):\n",
    "    cdef int i\n",
    "    for i in range(n):\n",
    "        output[i] = cwofz(w[i]) \n",
    "    \n",
    "    \n",
    "def cythonwrapper_wofz_cached(np.ndarray[DTYPE_c_t, ndim=1] w  not None, np.ndarray[DTYPE_c_t, ndim=1] output not None):\n",
    "    assert w.dtype == DTYPE_c and output.dtype == DTYPE_c\n",
    "    cython_wofz_cached(w.shape[0], &w[0], &output[0] )\n",
    "\n",
    "cdef cython_wofz_cached(int n, DTYPE_c_t *w, DTYPE_c_t *output):\n",
    "    cdef int i\n",
    "    for i in range(n):\n",
    "        if w[i] in cy_dict:\n",
    "            output[i] = cy_dict[w[i]]\n",
    "        else:\n",
    "            output[i] = cwofz(w[i]) \n",
    "            cy_dict.update({w[i]:output[i]})"
   ]
  },
  {
   "cell_type": "code",
   "execution_count": 11,
   "metadata": {
    "ExecuteTime": {
     "end_time": "2018-08-03T11:25:51.739130Z",
     "start_time": "2018-08-03T11:25:32.379549Z"
    }
   },
   "outputs": [
    {
     "name": "stdout",
     "output_type": "stream",
     "text": [
      "2.38 s ± 84.6 ms per loop (mean ± std. dev. of 7 runs, 1 loop each)\n"
     ]
    }
   ],
   "source": [
    "%%timeit \n",
    "for i in range(1000):\n",
    "    wofz(w)"
   ]
  },
  {
   "cell_type": "code",
   "execution_count": 12,
   "metadata": {
    "ExecuteTime": {
     "end_time": "2018-08-03T11:26:10.368700Z",
     "start_time": "2018-08-03T11:25:51.741292Z"
    }
   },
   "outputs": [
    {
     "name": "stdout",
     "output_type": "stream",
     "text": [
      "2.33 s ± 46.7 ms per loop (mean ± std. dev. of 7 runs, 1 loop each)\n"
     ]
    }
   ],
   "source": [
    "%%timeit \n",
    "for i in range(1000):\n",
    "    cythonwrapper_wofz(w, z)"
   ]
  },
  {
   "cell_type": "code",
   "execution_count": 13,
   "metadata": {
    "ExecuteTime": {
     "end_time": "2018-08-03T11:26:27.419797Z",
     "start_time": "2018-08-03T11:26:10.372230Z"
    }
   },
   "outputs": [
    {
     "name": "stdout",
     "output_type": "stream",
     "text": [
      "2.14 s ± 82.8 ms per loop (mean ± std. dev. of 7 runs, 1 loop each)\n"
     ]
    }
   ],
   "source": [
    "%%timeit \n",
    "for i in range(1000):\n",
    "    cythonwrapper_wofz_cached(w, z)"
   ]
  },
  {
   "cell_type": "markdown",
   "metadata": {},
   "source": [
    "So the `cython` `for` loop, when well designed, is **as fast as the numpy call** !\n",
    "\n",
    "Using a cache (a dictionnary) we do found a speed up of "
   ]
  },
  {
   "cell_type": "markdown",
   "metadata": {},
   "source": [
    "## Let's profile it\n",
    "\n",
    "we will used a line profiler to see what take the most of the time"
   ]
  },
  {
   "cell_type": "code",
   "execution_count": 14,
   "metadata": {
    "ExecuteTime": {
     "end_time": "2018-08-03T11:26:27.425906Z",
     "start_time": "2018-08-03T11:26:27.422140Z"
    }
   },
   "outputs": [],
   "source": [
    "import Cython\n",
    "import line_profiler\n",
    "directive_defaults =  Cython.Compiler.Options.get_directive_defaults()\n",
    "\n",
    "directive_defaults['linetrace'] = True\n",
    "directive_defaults['binding'] = True"
   ]
  },
  {
   "cell_type": "code",
   "execution_count": 15,
   "metadata": {
    "ExecuteTime": {
     "end_time": "2018-08-03T11:26:29.054762Z",
     "start_time": "2018-08-03T11:26:27.428244Z"
    },
    "code_folding": []
   },
   "outputs": [],
   "source": [
    "%%cython -f --compile-args=-DCYTHON_TRACE=1 -c=-O3 \n",
    "\n",
    "import numpy as np\n",
    "cimport numpy as np\n",
    "\n",
    "from scipy.special.cython_special cimport wofz as cwofz\n",
    "\n",
    "DTYPE_c = np.complex128\n",
    "ctypedef np.complex128_t DTYPE_c_t\n",
    "cache_dict = {}\n",
    "\n",
    "# @cython.boundscheck(False) # turn off bounds-checking for entire function\n",
    "# @cython.wraparound(False)  # turn off negative index wrapping for entire function\n",
    "def cython_wofz(np.ndarray[DTYPE_c_t, ndim=1] w  not None, np.ndarray[DTYPE_c_t, ndim=1] output not None):\n",
    "    assert w.dtype == DTYPE_c and output.dtype == DTYPE_c\n",
    "    cdef int i\n",
    "    for i in range(w.shape[0]):\n",
    "        output[i] = cwofz(w[i])     \n",
    "\n",
    "    \n",
    "def cython_wofz_cached(np.ndarray[DTYPE_c_t, ndim=1] w  not None,\n",
    "                       np.ndarray[DTYPE_c_t, ndim=1] output not None,\n",
    "                      dict cache_dict):\n",
    "    assert w.dtype == DTYPE_c and output.dtype == DTYPE_c\n",
    "    cdef int i\n",
    "    for i in range(w.shape[0]):\n",
    "        if w[i] in cache_dict:\n",
    "            output[i] = cache_dict[w[i]]\n",
    "        else:\n",
    "            output[i] = cwofz(w[i]) \n",
    "            cache_dict.update({w[i]:output[i]})\n",
    "    \n"
   ]
  },
  {
   "cell_type": "code",
   "execution_count": 16,
   "metadata": {
    "ExecuteTime": {
     "end_time": "2018-08-03T11:26:29.078817Z",
     "start_time": "2018-08-03T11:26:29.057555Z"
    }
   },
   "outputs": [
    {
     "name": "stdout",
     "output_type": "stream",
     "text": [
      "CPU times: user 2.98 ms, sys: 0 ns, total: 2.98 ms\n",
      "Wall time: 2.96 ms\n",
      "CPU times: user 9.04 ms, sys: 0 ns, total: 9.04 ms\n",
      "Wall time: 9.09 ms\n",
      "CPU times: user 2.46 ms, sys: 0 ns, total: 2.46 ms\n",
      "Wall time: 2.49 ms\n"
     ]
    }
   ],
   "source": [
    "%time cython_wofz(w, z)\n",
    "cache_dict = {}\n",
    "%time cython_wofz_cached(w, z, cache_dict)\n",
    "%time cython_wofz_cached(w, z, cache_dict) \n"
   ]
  },
  {
   "cell_type": "code",
   "execution_count": 17,
   "metadata": {
    "ExecuteTime": {
     "end_time": "2018-08-03T11:26:29.102316Z",
     "start_time": "2018-08-03T11:26:29.081662Z"
    }
   },
   "outputs": [
    {
     "name": "stdout",
     "output_type": "stream",
     "text": [
      "Timer unit: 1e-06 s\n",
      "\n",
      "Total time: 0.006353 s\n",
      "File: /home/tavant/.cache/ipython/cython/_cython_magic_16fee34bdd85031f9999a1d8abf9aa2f.pyx\n",
      "Function: cython_wofz at line 13\n",
      "\n",
      "Line #      Hits         Time  Per Hit   % Time  Line Contents\n",
      "==============================================================\n",
      "    13                                           def cython_wofz(np.ndarray[DTYPE_c_t, ndim=1] w  not None, np.ndarray[DTYPE_c_t, ndim=1] output not None):\n",
      "    14         1          4.0      4.0      0.1      assert w.dtype == DTYPE_c and output.dtype == DTYPE_c\n",
      "    15                                               cdef int i\n",
      "    16         1          1.0      1.0      0.0      for i in range(w.shape[0]):\n",
      "    17     10000       6348.0      0.6     99.9          output[i] = cwofz(w[i])     \n",
      "\n"
     ]
    }
   ],
   "source": [
    "a = %lprun -r -f cython_wofz cython_wofz(w, z)\n",
    "a.print_stats()"
   ]
  },
  {
   "cell_type": "code",
   "execution_count": 18,
   "metadata": {
    "ExecuteTime": {
     "end_time": "2018-08-03T11:26:29.196794Z",
     "start_time": "2018-08-03T11:26:29.106746Z"
    }
   },
   "outputs": [
    {
     "name": "stdout",
     "output_type": "stream",
     "text": [
      "size of the cache: 0 elements, equivalent to a memory usage of 2.40e+02 bytes\n",
      "Timer unit: 1e-06 s\n",
      "\n",
      "Total time: 0.017069 s\n",
      "File: /home/tavant/.cache/ipython/cython/_cython_magic_16fee34bdd85031f9999a1d8abf9aa2f.pyx\n",
      "Function: cython_wofz_cached at line 20\n",
      "\n",
      "Line #      Hits         Time  Per Hit   % Time  Line Contents\n",
      "==============================================================\n",
      "    20                                           def cython_wofz_cached(np.ndarray[DTYPE_c_t, ndim=1] w  not None,\n",
      "    21                                                                  np.ndarray[DTYPE_c_t, ndim=1] output not None,\n",
      "    22                                                                 dict cache_dict):\n",
      "    23         1          3.0      3.0      0.0      assert w.dtype == DTYPE_c and output.dtype == DTYPE_c\n",
      "    24                                               cdef int i\n",
      "    25         1          0.0      0.0      0.0      for i in range(w.shape[0]):\n",
      "    26     10000       4529.0      0.5     26.5          if w[i] in cache_dict:\n",
      "    27                                                       output[i] = cache_dict[w[i]]\n",
      "    28                                                   else:\n",
      "    29     10000       6636.0      0.7     38.9              output[i] = cwofz(w[i]) \n",
      "    30     10000       5901.0      0.6     34.6              cache_dict.update({w[i]:output[i]})\n",
      "\n",
      "~~~~~~~~~~~~~~~~~~~~~~~~~~~~~~~~~~~~~~~~~~~~~~~~~~~~~~~~~~~\n",
      "size of the cache: 10000 elements, equivalent to a memory usage of 9.35e+05 bytes\n",
      "~~~~~~~~~~~~~~~~~~~~~~~~~~~~~~~~~~~~~~~~~~~~~~~~~~~~~~~~~~~\n",
      "~~~~~~~~~~~~~~~~~~~~~~~~~~~~~~~~~~~~~~~~~~~~~~~~~~~~~~~~~~~\n",
      "Timer unit: 1e-06 s\n",
      "\n",
      "Total time: 0.008409 s\n",
      "File: /home/tavant/.cache/ipython/cython/_cython_magic_16fee34bdd85031f9999a1d8abf9aa2f.pyx\n",
      "Function: cython_wofz_cached at line 20\n",
      "\n",
      "Line #      Hits         Time  Per Hit   % Time  Line Contents\n",
      "==============================================================\n",
      "    20                                           def cython_wofz_cached(np.ndarray[DTYPE_c_t, ndim=1] w  not None,\n",
      "    21                                                                  np.ndarray[DTYPE_c_t, ndim=1] output not None,\n",
      "    22                                                                 dict cache_dict):\n",
      "    23         1          4.0      4.0      0.0      assert w.dtype == DTYPE_c and output.dtype == DTYPE_c\n",
      "    24                                               cdef int i\n",
      "    25         1          0.0      0.0      0.0      for i in range(w.shape[0]):\n",
      "    26     10000       4385.0      0.4     52.1          if w[i] in cache_dict:\n",
      "    27     10000       4020.0      0.4     47.8              output[i] = cache_dict[w[i]]\n",
      "    28                                                   else:\n",
      "    29                                                       output[i] = cwofz(w[i]) \n",
      "    30                                                       cache_dict.update({w[i]:output[i]})\n",
      "\n"
     ]
    }
   ],
   "source": [
    "cache_dict = {}\n",
    "print(f\"size of the cache: {len(cache_dict)} elements, equivalent to a memory usage of {total_size(cache_dict):2.2e} bytes\")\n",
    "\n",
    "a = %lprun -r -f cython_wofz_cached cython_wofz_cached(w, z, cache_dict)\n",
    "a.print_stats()\n",
    "print(\"~~~~~~~~~~~~~~~~~~~~~~~~~~~~~~~~~~~~~~~~~~~~~~~~~~~~~~~~~~~\")\n",
    "print(f\"size of the cache: {len(cache_dict)} elements, equivalent to a memory usage of {total_size(cache_dict):2.2e} bytes\")\n",
    "print(\"~~~~~~~~~~~~~~~~~~~~~~~~~~~~~~~~~~~~~~~~~~~~~~~~~~~~~~~~~~~\")\n",
    "print(\"~~~~~~~~~~~~~~~~~~~~~~~~~~~~~~~~~~~~~~~~~~~~~~~~~~~~~~~~~~~\")\n",
    "a = %lprun -r -f cython_wofz_cached cython_wofz_cached(w, z, cache_dict)\n",
    "a.print_stats()"
   ]
  },
  {
   "cell_type": "code",
   "execution_count": 19,
   "metadata": {
    "ExecuteTime": {
     "end_time": "2018-08-03T11:26:30.780747Z",
     "start_time": "2018-08-03T11:26:29.198553Z"
    }
   },
   "outputs": [],
   "source": [
    "%%cython -f -c=-O3 \n",
    "\n",
    "import numpy as np\n",
    "cimport numpy as np\n",
    "\n",
    "from scipy.special import wofz\n",
    "from scipy.special.cython_special cimport wofz as cwofz\n",
    "\n",
    "DTYPE_c = np.complex128\n",
    "ctypedef np.complex128_t DTYPE_c_t\n",
    "\n",
    "def memodict(f):\n",
    "    \"\"\" Memoization decorator for a function taking a single argument \"\"\"\n",
    "    class memodict(dict):\n",
    "        def __missing__(self, key):\n",
    "            ret = self[key] = f(key)\n",
    "            return ret \n",
    "    return memodict().__getitem__\n",
    "\n",
    "cached_cwofz = memodict(cwofz)\n",
    "# @cython.boundscheck(False) # turn off bounds-checking for entire function\n",
    "# @cython.wraparound(False)  # turn off negative index wrapping for entire function\n",
    "def cython_wofz2(np.ndarray[DTYPE_c_t, ndim=1] w  not None, np.ndarray[DTYPE_c_t, ndim=1] output not None):\n",
    "    assert w.dtype == DTYPE_c and output.dtype == DTYPE_c\n",
    "    cdef int i\n",
    "    for i in range(w.shape[0]):\n",
    "        output[i] = cached_cwofz(w[i])     \n",
    "\n"
   ]
  },
  {
   "cell_type": "code",
   "execution_count": 20,
   "metadata": {
    "ExecuteTime": {
     "end_time": "2018-08-03T11:26:30.815985Z",
     "start_time": "2018-08-03T11:26:30.783906Z"
    }
   },
   "outputs": [
    {
     "name": "stdout",
     "output_type": "stream",
     "text": [
      "CPU times: user 21.3 ms, sys: 1.99 ms, total: 23.3 ms\n",
      "Wall time: 23.4 ms\n",
      "CPU times: user 2.39 ms, sys: 0 ns, total: 2.39 ms\n",
      "Wall time: 2.42 ms\n"
     ]
    }
   ],
   "source": [
    "%time cython_wofz2(w, z)\n",
    "%time cython_wofz2(w, z)"
   ]
  },
  {
   "cell_type": "code",
   "execution_count": 21,
   "metadata": {
    "ExecuteTime": {
     "end_time": "2018-08-03T11:26:30.829436Z",
     "start_time": "2018-08-03T11:26:30.818663Z"
    }
   },
   "outputs": [],
   "source": [
    "def memodict(f):\n",
    "    \"\"\" Memoization decorator for a function taking a single argument \"\"\"\n",
    "    class memodict(dict):\n",
    "        def __missing__(self, key):\n",
    "            ret = self[key] = f(key)\n",
    "            return ret \n",
    "    return memodict().__getitem__"
   ]
  },
  {
   "cell_type": "code",
   "execution_count": 22,
   "metadata": {
    "ExecuteTime": {
     "end_time": "2018-08-03T11:26:32.386050Z",
     "start_time": "2018-08-03T11:26:30.831446Z"
    }
   },
   "outputs": [],
   "source": [
    "%%cython -f -c=-O3 \n",
    "\n",
    "import numpy as np\n",
    "cimport numpy as np\n",
    "\n",
    "from scipy.special import wofz\n",
    "from scipy.special.cython_special cimport wofz as cwofz\n",
    "\n",
    "DTYPE_c = np.complex128\n",
    "ctypedef np.complex128_t DTYPE_c_t\n",
    "\n",
    "def memoize(f):\n",
    "    class memodict(dict):\n",
    "        __slots__ = ()\n",
    "        def __missing__(self, key):\n",
    "            self[key] = ret = f(key)\n",
    "            return ret\n",
    "    return memodict().__getitem__\n",
    "cached_cwofz = memoize(cwofz)\n",
    "# @cython.boundscheck(False) # turn off bounds-checking for entire function\n",
    "# @cython.wraparound(False)  # turn off negative index wrapping for entire function\n",
    "def cython_wofz3(np.ndarray[DTYPE_c_t, ndim=1] w  not None, np.ndarray[DTYPE_c_t, ndim=1] output not None):\n",
    "    assert w.dtype == DTYPE_c and output.dtype == DTYPE_c\n",
    "    cdef int i\n",
    "    for i in range(w.shape[0]):\n",
    "        output[i] = cached_cwofz(w[i])     \n",
    "\n"
   ]
  },
  {
   "cell_type": "code",
   "execution_count": 23,
   "metadata": {
    "ExecuteTime": {
     "end_time": "2018-08-03T11:26:32.417253Z",
     "start_time": "2018-08-03T11:26:32.388048Z"
    }
   },
   "outputs": [
    {
     "name": "stdout",
     "output_type": "stream",
     "text": [
      "CPU times: user 21.4 ms, sys: 0 ns, total: 21.4 ms\n",
      "Wall time: 22.8 ms\n",
      "CPU times: user 1.59 ms, sys: 0 ns, total: 1.59 ms\n",
      "Wall time: 1.61 ms\n"
     ]
    }
   ],
   "source": [
    "%time cython_wofz3(w, z)\n",
    "%time cython_wofz3(w, z)"
   ]
  },
  {
   "cell_type": "code",
   "execution_count": null,
   "metadata": {},
   "outputs": [],
   "source": []
  }
 ],
 "metadata": {
  "hide_input": false,
  "kernelspec": {
   "display_name": "Python 3",
   "language": "python",
   "name": "python3"
  },
  "language_info": {
   "codemirror_mode": {
    "name": "ipython",
    "version": 3
   },
   "file_extension": ".py",
   "mimetype": "text/x-python",
   "name": "python",
   "nbconvert_exporter": "python",
   "pygments_lexer": "ipython3",
   "version": "3.6.6"
  },
  "latex_envs": {
   "LaTeX_envs_menu_present": true,
   "autoclose": false,
   "autocomplete": true,
   "bibliofile": "biblio.bib",
   "cite_by": "apalike",
   "current_citInitial": 1,
   "eqLabelWithNumbers": true,
   "eqNumInitial": 1,
   "hotkeys": {
    "equation": "Ctrl-E",
    "itemize": "Ctrl-I"
   },
   "labels_anchors": false,
   "latex_user_defs": false,
   "report_style_numbering": false,
   "user_envs_cfg": false
  },
  "toc": {
   "nav_menu": {},
   "number_sections": true,
   "sideBar": true,
   "skip_h1_title": false,
   "title_cell": "Table of Contents",
   "title_sidebar": "Contents",
   "toc_cell": false,
   "toc_position": {},
   "toc_section_display": true,
   "toc_window_display": false
  }
 },
 "nbformat": 4,
 "nbformat_minor": 2
}
