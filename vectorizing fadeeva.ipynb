{
 "cells": [
  {
   "cell_type": "markdown",
   "metadata": {},
   "source": [
    "# Speeding up The Z function\n",
    "\n",
    "So the main time consumed to solve the electrostatic function is actually the evaluation of the function itself !\n",
    "\n",
    "We will try to improve it's evaluation time\n"
   ]
  },
  {
   "cell_type": "code",
   "execution_count": 1,
   "metadata": {
    "ExecuteTime": {
     "end_time": "2018-08-03T10:24:06.765608Z",
     "start_time": "2018-08-03T10:24:06.562498Z"
    }
   },
   "outputs": [],
   "source": [
    "from scipy.special import wofz\n",
    "import numpy as np\n",
    "np.random.seed()\n",
    "\n",
    "import matplotlib as plt\n",
    "%load_ext line_profiler"
   ]
  },
  {
   "cell_type": "code",
   "execution_count": 4,
   "metadata": {
    "ExecuteTime": {
     "end_time": "2018-08-03T10:24:13.037291Z",
     "start_time": "2018-08-03T10:24:13.031890Z"
    }
   },
   "outputs": [],
   "source": [
    "N_cases = 10000\n",
    "w = np.random.uniform(-10, 10, N_cases) + 1.j * np.random.uniform(-10, 10, N_cases)\n"
   ]
  },
  {
   "cell_type": "code",
   "execution_count": 5,
   "metadata": {
    "ExecuteTime": {
     "end_time": "2018-08-03T10:24:15.564772Z",
     "start_time": "2018-08-03T10:24:13.689383Z"
    }
   },
   "outputs": [
    {
     "name": "stdout",
     "output_type": "stream",
     "text": [
      "2.27 ms ± 23.4 µs per loop (mean ± std. dev. of 7 runs, 100 loops each)\n"
     ]
    }
   ],
   "source": [
    "%%timeit\n",
    "z_w = wofz(w)"
   ]
  },
  {
   "cell_type": "markdown",
   "metadata": {
    "ExecuteTime": {
     "end_time": "2018-08-03T08:42:53.352406Z",
     "start_time": "2018-08-03T08:42:53.347003Z"
    }
   },
   "source": [
    "# Unvectorizing it\n",
    "\n",
    "Ok, so Alexis think that we can speed up the function using a cache.\n",
    "Unfortunatly, the cache do not work with numpy array\n",
    "\n",
    "So wee will check if un-vectorizing the call can allow us to gain from the cache"
   ]
  },
  {
   "cell_type": "code",
   "execution_count": 6,
   "metadata": {
    "ExecuteTime": {
     "end_time": "2018-08-03T10:24:18.179778Z",
     "start_time": "2018-08-03T10:24:18.170069Z"
    },
    "code_folding": []
   },
   "outputs": [],
   "source": [
    "def unvect_wofz(ws):\n",
    "    z = np.zeros(len(ws), dtype=\"complex128\")\n",
    "    for i,w in enumerate(ws):\n",
    "        z[i] = wofz(w)\n",
    "    return z"
   ]
  },
  {
   "cell_type": "code",
   "execution_count": 7,
   "metadata": {
    "ExecuteTime": {
     "end_time": "2018-08-03T10:24:31.187126Z",
     "start_time": "2018-08-03T10:24:19.042165Z"
    }
   },
   "outputs": [
    {
     "name": "stdout",
     "output_type": "stream",
     "text": [
      "14.9 ms ± 264 µs per loop (mean ± std. dev. of 7 runs, 100 loops each)\n"
     ]
    }
   ],
   "source": [
    "%%timeit\n",
    "z_w = unvect_wofz(w)"
   ]
  },
  {
   "cell_type": "code",
   "execution_count": 8,
   "metadata": {
    "ExecuteTime": {
     "end_time": "2018-08-03T10:24:31.239234Z",
     "start_time": "2018-08-03T10:24:31.189109Z"
    }
   },
   "outputs": [
    {
     "name": "stdout",
     "output_type": "stream",
     "text": [
      "Timer unit: 1e-06 s\n",
      "\n",
      "Total time: 0.036942 s\n",
      "File: <ipython-input-6-28e2f432af96>\n",
      "Function: unvect_wofz at line 1\n",
      "\n",
      "Line #      Hits         Time  Per Hit   % Time  Line Contents\n",
      "==============================================================\n",
      "     1                                           def unvect_wofz(ws):\n",
      "     2         1        138.0    138.0      0.4      z = np.zeros(len(ws), dtype=\"complex128\")\n",
      "     3     10001       7488.0      0.7     20.3      for i,w in enumerate(ws):\n",
      "     4     10000      29314.0      2.9     79.4          z[i] = wofz(w)\n",
      "     5         1          2.0      2.0      0.0      return z\n",
      "\n"
     ]
    }
   ],
   "source": [
    "a = %lprun -r -f unvect_wofz z_w = unvect_wofz(w)\n",
    "a.print_stats()"
   ]
  },
  {
   "cell_type": "markdown",
   "metadata": {},
   "source": [
    "Well, even if we can gain a factor 10 with the cache, we loose a factor 10 with the unfectorasition\n",
    "\n",
    "\n",
    "# With Cython"
   ]
  },
  {
   "cell_type": "code",
   "execution_count": 9,
   "metadata": {
    "ExecuteTime": {
     "end_time": "2018-08-03T10:24:38.258006Z",
     "start_time": "2018-08-03T10:24:37.902120Z"
    }
   },
   "outputs": [],
   "source": [
    "%load_ext Cython"
   ]
  },
  {
   "cell_type": "code",
   "execution_count": 14,
   "metadata": {
    "ExecuteTime": {
     "end_time": "2018-08-03T10:27:20.130622Z",
     "start_time": "2018-08-03T10:27:20.124627Z"
    }
   },
   "outputs": [],
   "source": [
    "import Cython\n",
    "import line_profiler\n",
    "directive_defaults =  Cython.Compiler.Options.get_directive_defaults()\n",
    "\n",
    "directive_defaults['linetrace'] = True\n",
    "directive_defaults['binding'] = True\n",
    "\n",
    "z = np.ndarray(N_cases, dtype=np.complex128)\n"
   ]
  },
  {
   "cell_type": "code",
   "execution_count": 24,
   "metadata": {
    "ExecuteTime": {
     "end_time": "2018-08-03T10:28:51.498380Z",
     "start_time": "2018-08-03T10:28:49.981335Z"
    }
   },
   "outputs": [],
   "source": [
    "%%cython -f -c=-O3 \n",
    "\n",
    "import numpy as np\n",
    "cimport numpy as np\n",
    "\n",
    "from scipy.special.cython_special cimport wofz as cwofz\n",
    "\n",
    "DTYPE_c = np.complex128\n",
    "ctypedef np.complex128_t DTYPE_c_t\n",
    "cy_dict = {}\n",
    "\n",
    "# @cython.boundscheck(False) # turn off bounds-checking for entire function\n",
    "# @cython.wraparound(False)  # turn off negative index wrapping for entire function\n",
    "def cythonwrapper_wofz(np.ndarray[DTYPE_c_t, ndim=1] w  not None, np.ndarray[DTYPE_c_t, ndim=1] output not None):\n",
    "    assert w.dtype == DTYPE_c and output.dtype == DTYPE_c\n",
    "    cython_wofz(w.shape[0], &w[0], &output[0] )\n",
    "\n",
    "cdef cython_wofz(int n, DTYPE_c_t *w, DTYPE_c_t *output):\n",
    "    cdef int i\n",
    "    for i in range(n):\n",
    "        output[i] = cwofz(w[i]) \n",
    "    \n",
    "    \n",
    "def cythonwrapper_wofz_cached(np.ndarray[DTYPE_c_t, ndim=1] w  not None, np.ndarray[DTYPE_c_t, ndim=1] output not None):\n",
    "    assert w.dtype == DTYPE_c and output.dtype == DTYPE_c\n",
    "    cython_wofz_cached(w.shape[0], &w[0], &output[0] )\n",
    "\n",
    "cdef cython_wofz_cached(int n, DTYPE_c_t *w, DTYPE_c_t *output):\n",
    "    cdef int i\n",
    "    for i in range(n):\n",
    "        if w[i] in cy_dict:\n",
    "            output[i] = cy_dict[w[i]]\n",
    "        else:\n",
    "            output[i] = cwofz(w[i]) \n",
    "            cy_dict.update({w[i]:output[i]})"
   ]
  },
  {
   "cell_type": "code",
   "execution_count": 25,
   "metadata": {
    "ExecuteTime": {
     "end_time": "2018-08-03T10:28:53.428419Z",
     "start_time": "2018-08-03T10:28:51.500333Z"
    }
   },
   "outputs": [
    {
     "name": "stdout",
     "output_type": "stream",
     "text": [
      "2.35 ms ± 70.1 µs per loop (mean ± std. dev. of 7 runs, 100 loops each)\n"
     ]
    }
   ],
   "source": [
    "%timeit cythonwrapper_wofz(w, z)"
   ]
  },
  {
   "cell_type": "code",
   "execution_count": 26,
   "metadata": {
    "ExecuteTime": {
     "end_time": "2018-08-03T10:28:56.358882Z",
     "start_time": "2018-08-03T10:28:54.683022Z"
    }
   },
   "outputs": [
    {
     "name": "stdout",
     "output_type": "stream",
     "text": [
      "2.04 ms ± 96.3 µs per loop (mean ± std. dev. of 7 runs, 100 loops each)\n"
     ]
    }
   ],
   "source": [
    "%timeit cythonwrapper_wofz_cached(w, z)"
   ]
  },
  {
   "cell_type": "markdown",
   "metadata": {},
   "source": [
    "So the cython for loop takes some mor time than the numpy call, but it is *only* 30% slower"
   ]
  },
  {
   "cell_type": "code",
   "execution_count": 48,
   "metadata": {
    "ExecuteTime": {
     "end_time": "2018-08-03T10:35:25.802310Z",
     "start_time": "2018-08-03T10:35:24.417854Z"
    }
   },
   "outputs": [],
   "source": [
    "%%cython -f --compile-args=-DCYTHON_TRACE=1 -c=-O3 \n",
    "\n",
    "import numpy as np\n",
    "cimport numpy as np\n",
    "\n",
    "from scipy.special.cython_special cimport wofz as cwofz\n",
    "\n",
    "DTYPE_c = np.complex128\n",
    "ctypedef np.complex128_t DTYPE_c_t\n",
    "cy_dict = {}\n",
    "\n",
    "# @cython.boundscheck(False) # turn off bounds-checking for entire function\n",
    "# @cython.wraparound(False)  # turn off negative index wrapping for entire function\n",
    "def cython_wofz(np.ndarray[DTYPE_c_t, ndim=1] w  not None, np.ndarray[DTYPE_c_t, ndim=1] output not None):\n",
    "    assert w.dtype == DTYPE_c and output.dtype == DTYPE_c\n",
    "    cdef int i\n",
    "    for i in range(w.shape[0]):\n",
    "        output[i] = cwofz(w[i])     \n",
    "    \n",
    "    \n",
    "def cython_wofz_cached(np.ndarray[DTYPE_c_t, ndim=1] w  not None, np.ndarray[DTYPE_c_t, ndim=1] output not None):\n",
    "    assert w.dtype == DTYPE_c and output.dtype == DTYPE_c\n",
    "    cdef int i\n",
    "    for i in range(w.shape[0]):\n",
    "        if w[i] in cy_dict:\n",
    "            output[i] = cy_dict[w[i]]\n",
    "        else:\n",
    "            output[i] = cwofz(w[i]) \n",
    "            cy_dict.update({w[i]:output[i]})\n",
    "    "
   ]
  },
  {
   "cell_type": "code",
   "execution_count": 49,
   "metadata": {
    "ExecuteTime": {
     "end_time": "2018-08-03T10:35:26.431425Z",
     "start_time": "2018-08-03T10:35:26.397135Z"
    }
   },
   "outputs": [
    {
     "name": "stdout",
     "output_type": "stream",
     "text": [
      "Timer unit: 1e-06 s\n",
      "\n",
      "Total time: 0.014901 s\n",
      "File: /home/tavant/.cache/ipython/cython/_cython_magic_9eba7c72e7999fc91405b0f7a9d8a7ba.pyx\n",
      "Function: cython_wofz at line 13\n",
      "\n",
      "Line #      Hits         Time  Per Hit   % Time  Line Contents\n",
      "==============================================================\n",
      "    13                                           def cython_wofz(np.ndarray[DTYPE_c_t, ndim=1] w  not None, np.ndarray[DTYPE_c_t, ndim=1] output not None):\n",
      "    14         1         17.0     17.0      0.1      assert w.dtype == DTYPE_c and output.dtype == DTYPE_c\n",
      "    15                                               cdef int i\n",
      "    16         1          3.0      3.0      0.0      for i in range(w.shape[0]):\n",
      "    17     10000      14881.0      1.5     99.9          output[i] = cwofz(w[i])     \n",
      "\n"
     ]
    }
   ],
   "source": [
    "a = %lprun -r -f cython_wofz cython_wofz(w, z)\n",
    "a.print_stats()"
   ]
  },
  {
   "cell_type": "code",
   "execution_count": 50,
   "metadata": {
    "ExecuteTime": {
     "end_time": "2018-08-03T10:35:31.933821Z",
     "start_time": "2018-08-03T10:35:31.868115Z"
    }
   },
   "outputs": [
    {
     "name": "stdout",
     "output_type": "stream",
     "text": [
      "Timer unit: 1e-06 s\n",
      "\n",
      "Total time: 0.024243 s\n",
      "File: /home/tavant/.cache/ipython/cython/_cython_magic_9eba7c72e7999fc91405b0f7a9d8a7ba.pyx\n",
      "Function: cython_wofz_cached at line 20\n",
      "\n",
      "Line #      Hits         Time  Per Hit   % Time  Line Contents\n",
      "==============================================================\n",
      "    20                                           def cython_wofz_cached(np.ndarray[DTYPE_c_t, ndim=1] w  not None, np.ndarray[DTYPE_c_t, ndim=1] output not None):\n",
      "    21         1         19.0     19.0      0.1      assert w.dtype == DTYPE_c and output.dtype == DTYPE_c\n",
      "    22                                               cdef int i\n",
      "    23         1          2.0      2.0      0.0      for i in range(w.shape[0]):\n",
      "    24     10000       6482.0      0.6     26.7          if w[i] in cy_dict:\n",
      "    25                                                       output[i] = cy_dict[w[i]]\n",
      "    26                                                   else:\n",
      "    27     10000       8510.0      0.9     35.1              output[i] = cwofz(w[i]) \n",
      "    28     10000       9230.0      0.9     38.1              cy_dict.update({w[i]:output[i]})\n",
      "\n",
      "~~~~~~~~~~~~~~~~~~~~~~~~~~~~~~~~~~~~~~~~~~~~~~~~~~~~~~~~~~~\n",
      "~~~~~~~~~~~~~~~~~~~~~~~~~~~~~~~~~~~~~~~~~~~~~~~~~~~~~~~~~~~\n",
      "~~~~~~~~~~~~~~~~~~~~~~~~~~~~~~~~~~~~~~~~~~~~~~~~~~~~~~~~~~~\n",
      "Timer unit: 1e-06 s\n",
      "\n",
      "Total time: 0.008428 s\n",
      "File: /home/tavant/.cache/ipython/cython/_cython_magic_9eba7c72e7999fc91405b0f7a9d8a7ba.pyx\n",
      "Function: cython_wofz_cached at line 20\n",
      "\n",
      "Line #      Hits         Time  Per Hit   % Time  Line Contents\n",
      "==============================================================\n",
      "    20                                           def cython_wofz_cached(np.ndarray[DTYPE_c_t, ndim=1] w  not None, np.ndarray[DTYPE_c_t, ndim=1] output not None):\n",
      "    21         1          5.0      5.0      0.1      assert w.dtype == DTYPE_c and output.dtype == DTYPE_c\n",
      "    22                                               cdef int i\n",
      "    23         1          0.0      0.0      0.0      for i in range(w.shape[0]):\n",
      "    24     10000       4257.0      0.4     50.5          if w[i] in cy_dict:\n",
      "    25     10000       4166.0      0.4     49.4              output[i] = cy_dict[w[i]]\n",
      "    26                                                   else:\n",
      "    27                                                       output[i] = cwofz(w[i]) \n",
      "    28                                                       cy_dict.update({w[i]:output[i]})\n",
      "\n"
     ]
    }
   ],
   "source": [
    "a = %lprun -r -f cython_wofz_cached cython_wofz_cached(w, z)\n",
    "a.print_stats()\n",
    "print(\"~~~~~~~~~~~~~~~~~~~~~~~~~~~~~~~~~~~~~~~~~~~~~~~~~~~~~~~~~~~\")\n",
    "print(\"~~~~~~~~~~~~~~~~~~~~~~~~~~~~~~~~~~~~~~~~~~~~~~~~~~~~~~~~~~~\")\n",
    "print(\"~~~~~~~~~~~~~~~~~~~~~~~~~~~~~~~~~~~~~~~~~~~~~~~~~~~~~~~~~~~\")\n",
    "a = %lprun -r -f cython_wofz_cached cython_wofz_cached(w, z)\n",
    "a.print_stats()"
   ]
  },
  {
   "cell_type": "code",
   "execution_count": null,
   "metadata": {},
   "outputs": [],
   "source": []
  }
 ],
 "metadata": {
  "hide_input": false,
  "kernelspec": {
   "display_name": "Python 3",
   "language": "python",
   "name": "python3"
  },
  "language_info": {
   "codemirror_mode": {
    "name": "ipython",
    "version": 3
   },
   "file_extension": ".py",
   "mimetype": "text/x-python",
   "name": "python",
   "nbconvert_exporter": "python",
   "pygments_lexer": "ipython3",
   "version": "3.6.6"
  },
  "latex_envs": {
   "LaTeX_envs_menu_present": true,
   "autoclose": false,
   "autocomplete": true,
   "bibliofile": "biblio.bib",
   "cite_by": "apalike",
   "current_citInitial": 1,
   "eqLabelWithNumbers": true,
   "eqNumInitial": 1,
   "hotkeys": {
    "equation": "Ctrl-E",
    "itemize": "Ctrl-I"
   },
   "labels_anchors": false,
   "latex_user_defs": false,
   "report_style_numbering": false,
   "user_envs_cfg": false
  },
  "toc": {
   "nav_menu": {},
   "number_sections": true,
   "sideBar": true,
   "skip_h1_title": false,
   "title_cell": "Table of Contents",
   "title_sidebar": "Contents",
   "toc_cell": false,
   "toc_position": {},
   "toc_section_display": true,
   "toc_window_display": false
  }
 },
 "nbformat": 4,
 "nbformat_minor": 2
}
