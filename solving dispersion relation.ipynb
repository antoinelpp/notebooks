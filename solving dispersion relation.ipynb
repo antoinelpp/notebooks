{
 "cells": [
  {
   "cell_type": "markdown",
   "metadata": {
    "slideshow": {
     "slide_type": "slide"
    }
   },
   "source": [
    "# solving dispertion function\n",
    "before adding annother gaz, we want to find out the theoritical value\n",
    "\n",
    "### define physical parameters\n",
    "\n",
    "* `lDe` = $\\lambda_{De} = \\sqrt{\\epsilon _0 T_e/(e n_e)} $    the debye lenth\n",
    "\n",
    "* `cs` = $c_s = \\sqrt{e T_e/(M_i)}$     the ion sound speed\n",
    "* `Vte` = $V_{Te} = \\sqrt{2 e T_e/(m_e)}$     the electron thermal velocity\n",
    "* `Vti` = $V_{Ti} = \\sqrt{2 e T_i/(M_i)}$    the ion thermal velocity\n",
    "\n",
    "\n",
    "### Dispertion relation\n",
    "\n",
    "$ 0 = 1 - F(Z'(\\omega, k_x)) $\n"
   ]
  },
  {
   "cell_type": "code",
   "execution_count": 1,
   "metadata": {
    "ExecuteTime": {
     "end_time": "2017-08-31T11:55:32.921505Z",
     "start_time": "2017-08-31T11:55:32.300934Z"
    },
    "collapsed": true,
    "init_cell": true,
    "slideshow": {
     "slide_type": "skip"
    },
    "tags": [
     "init"
    ]
   },
   "outputs": [],
   "source": [
    "from scipy.optimize import fsolve\n",
    "import matplotlib.pyplot as plt\n",
    "import numpy as np\n",
    "from astropy.constants import (e, eps0, m_e, m_p)\n",
    "from astropy.units import (Volt, m, s)\n",
    "from scipy.special import erf\n",
    "\n",
    "from ipywidgets import FloatProgress\n",
    "from IPython.display import display\n",
    "\n",
    "%matplotlib inline\n",
    "\n",
    "# physical values\n",
    "m1 = 131 * m_p  # proton mass\n",
    "e = e.si"
   ]
  },
  {
   "cell_type": "code",
   "execution_count": 2,
   "metadata": {
    "ExecuteTime": {
     "end_time": "2017-08-31T11:55:32.978401Z",
     "start_time": "2017-08-31T11:55:32.923004Z"
    },
    "collapsed": true,
    "deletable": false,
    "editable": false,
    "init_cell": true,
    "slideshow": {
     "slide_type": "skip"
    },
    "tags": [
     "init"
    ]
   },
   "outputs": [],
   "source": [
    "ne = 1e17 * m**(-3)  # part/m³\n",
    "Te = 5 * Volt\n",
    "Ti = Te / 20\n",
    "\n",
    "lDe = np.sqrt(eps0 * Te / (e * ne)).si\n",
    "cs = np.sqrt(e * Te / m1).si\n",
    "Vte = np.sqrt(2 * e * Te / m_e).si\n",
    "Vti1 = np.sqrt(2 * e * Ti / m1).si\n",
    "Vde = 5e5 * m / s\n",
    "wpi = np.sqrt(e**2 * ne / (eps0 * m1)).si"
   ]
  },
  {
   "cell_type": "markdown",
   "metadata": {
    "slideshow": {
     "slide_type": "slide"
    }
   },
   "source": [
    "## Define functions"
   ]
  },
  {
   "cell_type": "code",
   "execution_count": 3,
   "metadata": {
    "ExecuteTime": {
     "end_time": "2017-08-31T11:55:33.157808Z",
     "start_time": "2017-08-31T11:55:32.980063Z"
    },
    "code_folding": [
     0,
     6,
     20,
     24,
     29
    ],
    "collapsed": true,
    "init_cell": true,
    "slideshow": {
     "slide_type": "fragment"
    },
    "tags": [
     "init"
    ]
   },
   "outputs": [],
   "source": [
    "def Z(x):\n",
    "    x = x.value\n",
    "    Z = 1j * np.sqrt(np.pi) * np.exp(-x**2) * (1 - erf(- 1j * x))\n",
    "    return Z\n",
    "\n",
    "\n",
    "def Zprim(x):\n",
    "    Zprim = -2 * (1 + x * Z(x))\n",
    "    return Zprim\n",
    "\n",
    "\n",
    "def dispfun(kx, w):\n",
    "    wc = w[0] + w[1] * 1j\n",
    "    wc = wc / s\n",
    "    f = 1 - 1 / (2 * kx**2 * lDe**2) * (Zprim((wc - kx * Vde) / (kx * Vte)) +\n",
    "                                        Te / Ti * Zprim((wc) / (kx * Vti1)))\n",
    "\n",
    "    return [f.real, f.imag]\n",
    "\n",
    "\n",
    "def f(w):\n",
    "    return dispfun(kinp, w)\n",
    "\n",
    "\n",
    "def wraprox(kx):\n",
    "    wr = kx * cs / (np.sqrt(1 + kx**2 * lDe**2))\n",
    "    return wr\n",
    "\n",
    "\n",
    "def gamaprox(kx):\n",
    "\n",
    "    g = - np.sqrt(np.pi / 8) * kx * cs / (1 + kx**2 * lDe**2)**2 * (\n",
    "        (Te / Ti)**(3 / 2) * np.exp(-Te / (2 * Ti) * 1 / (1 + kx**2 * lDe**2))\n",
    "        + np.sqrt(m_e / m1) * (1 - Vde / cs * np.sqrt(1 + kx**2 * lDe**2)))\n",
    "    return g"
   ]
  },
  {
   "cell_type": "markdown",
   "metadata": {
    "slideshow": {
     "slide_type": "slide"
    }
   },
   "source": [
    "## Validate Solver and compare Xe to H"
   ]
  },
  {
   "cell_type": "code",
   "execution_count": 25,
   "metadata": {
    "ExecuteTime": {
     "end_time": "2017-08-29T08:28:59.281416Z",
     "start_time": "2017-08-29T08:28:54.494800Z"
    },
    "code_folding": [],
    "slideshow": {
     "slide_type": "fragment"
    },
    "tags": [
     "test"
    ]
   },
   "outputs": [
    {
     "data": {
      "application/vnd.jupyter.widget-view+json": {
       "model_id": "0b10ccea32ea45569835478f67eacd7a"
      }
     },
     "metadata": {},
     "output_type": "display_data"
    },
    {
     "data": {
      "image/png": "[encoded data removed]",
      "text/plain": [
       "<matplotlib.figure.Figure at 0x7f1f2078e0f0>"
      ]
     },
     "metadata": {},
     "output_type": "display_data"
    }
   ],
   "source": [
    "Nbins = 100\n",
    "kmax = 2\n",
    "\n",
    "plt.figure(figsize=(10, 5))\n",
    "\n",
    "maxg = -9999\n",
    "\n",
    "progress = FloatProgress(min=0, max=2*Nbins)\n",
    "display(progress)\n",
    "    \n",
    "# loop over Mi and Kx to plot the graphs\n",
    "for m1 in [1 * m_p, 131 * m_p]:\n",
    "    cs = np.sqrt(e * Te / m1)\n",
    "    Vti1 = np.sqrt(2 * e * Ti / m1)\n",
    "    wpi = np.sqrt(e**2 * ne / (eps0 * m1))\n",
    "\n",
    "    vect_val = []\n",
    "    vect_ind = []\n",
    "\n",
    "    for i in np.arange(Nbins):\n",
    "\n",
    "        index = kmax * (i + 1) / Nbins\n",
    "        kinp = index / lDe\n",
    "        # print(kinp)\n",
    "\n",
    "        vect_ind.append(index)\n",
    "        #vect_val.append(gamaprox(kinp).value)\n",
    "\n",
    "        # print(wraprox(kinp),gamaprox(kinp))\n",
    "\n",
    "        w = fsolve(f,[wraprox(kinp).value,gamaprox(kinp).value])\n",
    "        vect_val.append(w[1])\n",
    "        #plt.scatter(index,w[1]/wpi, marker = '+')\n",
    "        #maxg = max(maxg,w[1]/wpi)\n",
    "        \n",
    "        progress.value += 1 # signal to increment the progress bar\n",
    "\n",
    "    plt.subplot(121)\n",
    "    plt.plot(vect_ind, vect_val, label=str(m1))\n",
    "\n",
    "    plt.subplot(122)\n",
    "    plt.plot(vect_ind, vect_val / wpi, label=str(m1))\n",
    "\n",
    "# plot all\n",
    "if True:\n",
    "\n",
    "    plt.subplot(121)\n",
    "    plt.xlim(0, 2)\n",
    "    plt.title(\"Gamma / wpi\")\n",
    "    # plt.ylim(-0.2,0.2)\n",
    "\n",
    "    plt.xlabel(\" $k\\lambda_{De}$\")\n",
    "    plt.ylabel(\"$\\gamma$\")\n",
    "    plt.legend(loc='best')\n",
    "\n",
    "    plt.subplot(122)\n",
    "    plt.title(\"Gamma / wpi\")\n",
    "    plt.xlim(0, 2)\n",
    "    # plt.ylim(-0.2,0.2)\n",
    "\n",
    "    plt.xlabel(\" $k\\lambda_{De}$\")\n",
    "    plt.ylabel(\"$\\gamma/\\omega_{pi}$\")\n",
    "    plt.legend(loc='best')"
   ]
  },
  {
   "cell_type": "markdown",
   "metadata": {
    "slideshow": {
     "slide_type": "slide"
    }
   },
   "source": [
    "## Xe/H ratio effect on the maximum groth rate"
   ]
  },
  {
   "cell_type": "code",
   "execution_count": 7,
   "metadata": {
    "ExecuteTime": {
     "end_time": "2017-08-31T11:55:29.055206Z",
     "start_time": "2017-08-31T11:54:18.557748Z"
    },
    "code_folding": [],
    "scrolled": false,
    "slideshow": {
     "slide_type": "fragment"
    },
    "tags": [
     "ratio"
    ]
   },
   "outputs": [
    {
     "data": {
      "application/vnd.jupyter.widget-view+json": {
       "model_id": "c38d0f0bac3e4934a6537f497952fc13"
      }
     },
     "metadata": {},
     "output_type": "display_data"
    },
    {
     "name": "stderr",
     "output_type": "stream",
     "text": [
      "/home/tavant/venv/lib/python3.5/site-packages/ipykernel_launcher.py:3: RuntimeWarning: invalid value encountered in cdouble_scalars\n",
      "  This is separate from the ipykernel package so we can avoid doing imports until\n",
      "/usr/lib/python3/dist-packages/scipy/optimize/minpack.py:161: RuntimeWarning: The iteration is not making good progress, as measured by the \n",
      "  improvement from the last ten iterations.\n",
      "  warnings.warn(msg, RuntimeWarning)\n",
      "/usr/lib/python3/dist-packages/scipy/optimize/minpack.py:161: RuntimeWarning: The iteration is not making good progress, as measured by the \n",
      "  improvement from the last five Jacobian evaluations.\n",
      "  warnings.warn(msg, RuntimeWarning)\n",
      "/home/tavant/venv/lib/python3.5/site-packages/ipykernel_launcher.py:3: RuntimeWarning: overflow encountered in exp\n",
      "  This is separate from the ipykernel package so we can avoid doing imports until\n"
     ]
    },
    {
     "ename": "KeyboardInterrupt",
     "evalue": "",
     "output_type": "error",
     "traceback": [
      "\u001b[0;31m---------------------------------------------------------------------------\u001b[0m",
      "\u001b[0;31mKeyboardInterrupt\u001b[0m                         Traceback (most recent call last)",
      "\u001b[0;32m<ipython-input-7-2d3094e2e443>\u001b[0m in \u001b[0;36m<module>\u001b[0;34m()\u001b[0m\n\u001b[1;32m     43\u001b[0m         \u001b[0;31m# print(kinp)\u001b[0m\u001b[0;34m\u001b[0m\u001b[0;34m\u001b[0m\u001b[0m\n\u001b[1;32m     44\u001b[0m \u001b[0;34m\u001b[0m\u001b[0m\n\u001b[0;32m---> 45\u001b[0;31m         \u001b[0mw\u001b[0m \u001b[0;34m=\u001b[0m \u001b[0mfsolve\u001b[0m\u001b[0;34m(\u001b[0m\u001b[0mf\u001b[0m\u001b[0;34m,\u001b[0m \u001b[0;34m[\u001b[0m\u001b[0mwraprox\u001b[0m\u001b[0;34m(\u001b[0m\u001b[0mkinp\u001b[0m\u001b[0;34m)\u001b[0m\u001b[0;34m.\u001b[0m\u001b[0mvalue\u001b[0m\u001b[0;34m,\u001b[0m \u001b[0mgamaprox\u001b[0m\u001b[0;34m(\u001b[0m\u001b[0mkinp\u001b[0m\u001b[0;34m)\u001b[0m\u001b[0;34m.\u001b[0m\u001b[0mvalue\u001b[0m\u001b[0;34m]\u001b[0m\u001b[0;34m)\u001b[0m\u001b[0;34m\u001b[0m\u001b[0m\n\u001b[0m\u001b[1;32m     46\u001b[0m \u001b[0;34m\u001b[0m\u001b[0m\n\u001b[1;32m     47\u001b[0m         \u001b[0;31m# print(kinp,w[0])\u001b[0m\u001b[0;34m\u001b[0m\u001b[0;34m\u001b[0m\u001b[0m\n",
      "\u001b[0;32m/usr/lib/python3/dist-packages/scipy/optimize/minpack.py\u001b[0m in \u001b[0;36mfsolve\u001b[0;34m(func, x0, args, fprime, full_output, col_deriv, xtol, maxfev, band, epsfcn, factor, diag)\u001b[0m\n\u001b[1;32m    144\u001b[0m                'diag': diag}\n\u001b[1;32m    145\u001b[0m \u001b[0;34m\u001b[0m\u001b[0m\n\u001b[0;32m--> 146\u001b[0;31m     \u001b[0mres\u001b[0m \u001b[0;34m=\u001b[0m \u001b[0m_root_hybr\u001b[0m\u001b[0;34m(\u001b[0m\u001b[0mfunc\u001b[0m\u001b[0;34m,\u001b[0m \u001b[0mx0\u001b[0m\u001b[0;34m,\u001b[0m \u001b[0margs\u001b[0m\u001b[0;34m,\u001b[0m \u001b[0mjac\u001b[0m\u001b[0;34m=\u001b[0m\u001b[0mfprime\u001b[0m\u001b[0;34m,\u001b[0m \u001b[0;34m**\u001b[0m\u001b[0moptions\u001b[0m\u001b[0;34m)\u001b[0m\u001b[0;34m\u001b[0m\u001b[0m\n\u001b[0m\u001b[1;32m    147\u001b[0m     \u001b[0;32mif\u001b[0m \u001b[0mfull_output\u001b[0m\u001b[0;34m:\u001b[0m\u001b[0;34m\u001b[0m\u001b[0m\n\u001b[1;32m    148\u001b[0m         \u001b[0mx\u001b[0m \u001b[0;34m=\u001b[0m \u001b[0mres\u001b[0m\u001b[0;34m[\u001b[0m\u001b[0;34m'x'\u001b[0m\u001b[0;34m]\u001b[0m\u001b[0;34m\u001b[0m\u001b[0m\n",
      "\u001b[0;32m/usr/lib/python3/dist-packages/scipy/optimize/minpack.py\u001b[0m in \u001b[0;36m_root_hybr\u001b[0;34m(func, x0, args, jac, col_deriv, xtol, maxfev, band, eps, factor, diag, **unknown_options)\u001b[0m\n\u001b[1;32m    222\u001b[0m             \u001b[0mmaxfev\u001b[0m \u001b[0;34m=\u001b[0m \u001b[0;36m200\u001b[0m \u001b[0;34m*\u001b[0m \u001b[0;34m(\u001b[0m\u001b[0mn\u001b[0m \u001b[0;34m+\u001b[0m \u001b[0;36m1\u001b[0m\u001b[0;34m)\u001b[0m\u001b[0;34m\u001b[0m\u001b[0m\n\u001b[1;32m    223\u001b[0m         retval = _minpack._hybrd(func, x0, args, 1, xtol, maxfev,\n\u001b[0;32m--> 224\u001b[0;31m                                  ml, mu, epsfcn, factor, diag)\n\u001b[0m\u001b[1;32m    225\u001b[0m     \u001b[0;32melse\u001b[0m\u001b[0;34m:\u001b[0m\u001b[0;34m\u001b[0m\u001b[0m\n\u001b[1;32m    226\u001b[0m         \u001b[0m_check_func\u001b[0m\u001b[0;34m(\u001b[0m\u001b[0;34m'fsolve'\u001b[0m\u001b[0;34m,\u001b[0m \u001b[0;34m'fprime'\u001b[0m\u001b[0;34m,\u001b[0m \u001b[0mDfun\u001b[0m\u001b[0;34m,\u001b[0m \u001b[0mx0\u001b[0m\u001b[0;34m,\u001b[0m \u001b[0margs\u001b[0m\u001b[0;34m,\u001b[0m \u001b[0mn\u001b[0m\u001b[0;34m,\u001b[0m \u001b[0;34m(\u001b[0m\u001b[0mn\u001b[0m\u001b[0;34m,\u001b[0m \u001b[0mn\u001b[0m\u001b[0;34m)\u001b[0m\u001b[0;34m)\u001b[0m\u001b[0;34m\u001b[0m\u001b[0m\n",
      "\u001b[0;32m<ipython-input-6-1c0e75c2e939>\u001b[0m in \u001b[0;36mf\u001b[0;34m(w)\u001b[0m\n\u001b[1;32m     20\u001b[0m \u001b[0;34m\u001b[0m\u001b[0m\n\u001b[1;32m     21\u001b[0m \u001b[0;32mdef\u001b[0m \u001b[0mf\u001b[0m\u001b[0;34m(\u001b[0m\u001b[0mw\u001b[0m\u001b[0;34m)\u001b[0m\u001b[0;34m:\u001b[0m\u001b[0;34m\u001b[0m\u001b[0m\n\u001b[0;32m---> 22\u001b[0;31m     \u001b[0;32mreturn\u001b[0m \u001b[0mdispfun\u001b[0m\u001b[0;34m(\u001b[0m\u001b[0mkinp\u001b[0m\u001b[0;34m,\u001b[0m \u001b[0mw\u001b[0m\u001b[0;34m)\u001b[0m\u001b[0;34m\u001b[0m\u001b[0m\n\u001b[0m\u001b[1;32m     23\u001b[0m \u001b[0;34m\u001b[0m\u001b[0m\n\u001b[1;32m     24\u001b[0m \u001b[0;34m\u001b[0m\u001b[0m\n",
      "\u001b[0;32m<ipython-input-7-2d3094e2e443>\u001b[0m in \u001b[0;36mdispfun\u001b[0;34m(kx, w)\u001b[0m\n\u001b[1;32m     15\u001b[0m     \u001b[0mwc\u001b[0m \u001b[0;34m/=\u001b[0m \u001b[0ms\u001b[0m\u001b[0;34m\u001b[0m\u001b[0m\n\u001b[1;32m     16\u001b[0m     f = 1 - 1 / (2 * kx**2 * lDe**2) * (Zprim((wc - kx * Vde) / (kx * Vte)) +\n\u001b[0;32m---> 17\u001b[0;31m                                         \u001b[0mTe\u001b[0m \u001b[0;34m/\u001b[0m \u001b[0mTi\u001b[0m \u001b[0;34m*\u001b[0m \u001b[0mratio\u001b[0m \u001b[0;34m/\u001b[0m \u001b[0;34m(\u001b[0m\u001b[0;36m1\u001b[0m \u001b[0;34m+\u001b[0m \u001b[0mratio\u001b[0m\u001b[0;34m)\u001b[0m \u001b[0;34m*\u001b[0m \u001b[0mZprim\u001b[0m\u001b[0;34m(\u001b[0m\u001b[0;34m(\u001b[0m\u001b[0mwc\u001b[0m\u001b[0;34m)\u001b[0m \u001b[0;34m/\u001b[0m \u001b[0;34m(\u001b[0m\u001b[0mkx\u001b[0m \u001b[0;34m*\u001b[0m \u001b[0mVti1\u001b[0m\u001b[0;34m)\u001b[0m\u001b[0;34m)\u001b[0m \u001b[0;34m+\u001b[0m\u001b[0;34m\u001b[0m\u001b[0m\n\u001b[0m\u001b[1;32m     18\u001b[0m                                         Te / Ti * 1 / (1 + ratio) * Zprim((wc) / (kx * Vti2)))\n\u001b[1;32m     19\u001b[0m \u001b[0;34m\u001b[0m\u001b[0m\n",
      "\u001b[0;32m<ipython-input-6-1c0e75c2e939>\u001b[0m in \u001b[0;36mZprim\u001b[0;34m(x)\u001b[0m\n\u001b[1;32m      6\u001b[0m \u001b[0;34m\u001b[0m\u001b[0m\n\u001b[1;32m      7\u001b[0m \u001b[0;32mdef\u001b[0m \u001b[0mZprim\u001b[0m\u001b[0;34m(\u001b[0m\u001b[0mx\u001b[0m\u001b[0;34m)\u001b[0m\u001b[0;34m:\u001b[0m\u001b[0;34m\u001b[0m\u001b[0m\n\u001b[0;32m----> 8\u001b[0;31m     \u001b[0mZprim\u001b[0m \u001b[0;34m=\u001b[0m \u001b[0;34m-\u001b[0m\u001b[0;36m2\u001b[0m \u001b[0;34m*\u001b[0m \u001b[0;34m(\u001b[0m\u001b[0;36m1\u001b[0m \u001b[0;34m+\u001b[0m \u001b[0mx\u001b[0m \u001b[0;34m*\u001b[0m \u001b[0mZ\u001b[0m\u001b[0;34m(\u001b[0m\u001b[0mx\u001b[0m\u001b[0;34m)\u001b[0m\u001b[0;34m)\u001b[0m\u001b[0;34m\u001b[0m\u001b[0m\n\u001b[0m\u001b[1;32m      9\u001b[0m     \u001b[0;32mreturn\u001b[0m \u001b[0mZprim\u001b[0m\u001b[0;34m\u001b[0m\u001b[0m\n\u001b[1;32m     10\u001b[0m \u001b[0;34m\u001b[0m\u001b[0m\n",
      "\u001b[0;32m/home/tavant/venv/lib/python3.5/site-packages/astropy/units/quantity.py\u001b[0m in \u001b[0;36m__rmul__\u001b[0;34m(self, other)\u001b[0m\n\u001b[1;32m   1046\u001b[0m         \"\"\"\n\u001b[1;32m   1047\u001b[0m \u001b[0;34m\u001b[0m\u001b[0m\n\u001b[0;32m-> 1048\u001b[0;31m         \u001b[0;32mreturn\u001b[0m \u001b[0mself\u001b[0m\u001b[0;34m.\u001b[0m\u001b[0m__mul__\u001b[0m\u001b[0;34m(\u001b[0m\u001b[0mother\u001b[0m\u001b[0;34m)\u001b[0m\u001b[0;34m\u001b[0m\u001b[0m\n\u001b[0m\u001b[1;32m   1049\u001b[0m \u001b[0;34m\u001b[0m\u001b[0m\n\u001b[1;32m   1050\u001b[0m     \u001b[0;32mdef\u001b[0m \u001b[0m__truediv__\u001b[0m\u001b[0;34m(\u001b[0m\u001b[0mself\u001b[0m\u001b[0;34m,\u001b[0m \u001b[0mother\u001b[0m\u001b[0;34m)\u001b[0m\u001b[0;34m:\u001b[0m\u001b[0;34m\u001b[0m\u001b[0m\n",
      "\u001b[0;32m/home/tavant/venv/lib/python3.5/site-packages/astropy/units/quantity.py\u001b[0m in \u001b[0;36m__mul__\u001b[0;34m(self, other)\u001b[0m\n\u001b[1;32m   1030\u001b[0m                 \u001b[0;32mreturn\u001b[0m \u001b[0mNotImplemented\u001b[0m\u001b[0;34m\u001b[0m\u001b[0m\n\u001b[1;32m   1031\u001b[0m \u001b[0;34m\u001b[0m\u001b[0m\n\u001b[0;32m-> 1032\u001b[0;31m         \u001b[0;32mreturn\u001b[0m \u001b[0msuper\u001b[0m\u001b[0;34m(\u001b[0m\u001b[0mQuantity\u001b[0m\u001b[0;34m,\u001b[0m \u001b[0mself\u001b[0m\u001b[0;34m)\u001b[0m\u001b[0;34m.\u001b[0m\u001b[0m__mul__\u001b[0m\u001b[0;34m(\u001b[0m\u001b[0mother\u001b[0m\u001b[0;34m)\u001b[0m\u001b[0;34m\u001b[0m\u001b[0m\n\u001b[0m\u001b[1;32m   1033\u001b[0m \u001b[0;34m\u001b[0m\u001b[0m\n\u001b[1;32m   1034\u001b[0m     \u001b[0;32mdef\u001b[0m \u001b[0m__imul__\u001b[0m\u001b[0;34m(\u001b[0m\u001b[0mself\u001b[0m\u001b[0;34m,\u001b[0m \u001b[0mother\u001b[0m\u001b[0;34m)\u001b[0m\u001b[0;34m:\u001b[0m\u001b[0;34m\u001b[0m\u001b[0m\n",
      "\u001b[0;32m/home/tavant/venv/lib/python3.5/site-packages/astropy/units/quantity.py\u001b[0m in \u001b[0;36m__array_prepare__\u001b[0;34m(self, obj, context)\u001b[0m\n\u001b[1;32m    458\u001b[0m         \u001b[0;32melse\u001b[0m\u001b[0;34m:\u001b[0m  \u001b[0;31m# normal case: set up output as a Quantity\u001b[0m\u001b[0;34m\u001b[0m\u001b[0m\n\u001b[1;32m    459\u001b[0m \u001b[0;34m\u001b[0m\u001b[0m\n\u001b[0;32m--> 460\u001b[0;31m             \u001b[0mresult\u001b[0m \u001b[0;34m=\u001b[0m \u001b[0mself\u001b[0m\u001b[0;34m.\u001b[0m\u001b[0m_new_view\u001b[0m\u001b[0;34m(\u001b[0m\u001b[0mobj\u001b[0m\u001b[0;34m,\u001b[0m \u001b[0mresult_unit\u001b[0m\u001b[0;34m)\u001b[0m\u001b[0;34m\u001b[0m\u001b[0m\n\u001b[0m\u001b[1;32m    461\u001b[0m \u001b[0;34m\u001b[0m\u001b[0m\n\u001b[1;32m    462\u001b[0m         \u001b[0;31m# We now need to treat the case where the inputs have to be converted -\u001b[0m\u001b[0;34m\u001b[0m\u001b[0;34m\u001b[0m\u001b[0m\n",
      "\u001b[0;31mKeyboardInterrupt\u001b[0m: "
     ]
    }
   ],
   "source": [
    "Nbins = 50\n",
    "Nperc = 50\n",
    "kmax = 1\n",
    "percmax = 0.6\n",
    "\n",
    "m2 = 2 * m_p\n",
    "m1 = 131 * m_p\n",
    "\n",
    "Vti2 = np.sqrt(2 * e * Ti / m2).si\n",
    "\n",
    "# redefine dispertion relation to add 2nd ions\n",
    "#*******************************************************************\n",
    "def dispfun(kx, w):\n",
    "    wc = w[0] + w[1] * 1j\n",
    "    wc /= s\n",
    "    f = 1 - 1 / (2 * kx**2 * lDe**2) * (Zprim((wc - kx * Vde) / (kx * Vte)) +\n",
    "                                        Te / Ti * ratio / (1 + ratio) * Zprim((wc) / (kx * Vti1)) +\n",
    "                                        Te / Ti * 1 / (1 + ratio) * Zprim((wc) / (kx * Vti2)))\n",
    "\n",
    "    # print(f)\n",
    "    return [f.real.value, f.imag.value]\n",
    "\n",
    "#******************************************************************\n",
    "\n",
    "val = []\n",
    "ind = []\n",
    "\n",
    "progress = FloatProgress(min=0, max=Nperc*Nbins)\n",
    "display(progress)\n",
    "\n",
    "\n",
    "for r in np.arange(Nperc):\n",
    "\n",
    "    percent = (r + 1) / Nperc * percmax\n",
    "    ratio = 1 / (percent)\n",
    "    mm = (m2 + ratio * m1) / (1 + ratio)\n",
    "\n",
    "    maxg = -999999\n",
    "    for i in np.arange(Nbins):\n",
    "\n",
    "        index = kmax * (i + 1) / Nbins\n",
    "        kinp = index / lDe\n",
    "        # print(kinp)\n",
    "\n",
    "        w = fsolve(f, [wraprox(kinp).value, gamaprox(kinp).value])\n",
    "\n",
    "        # print(kinp,w[0])\n",
    "\n",
    "        maxg = max(maxg, w[1])\n",
    "        #\n",
    "        progress.value += 1 # signal to increment the progress bar\n",
    "    # save index and value\n",
    "\n",
    "    ind.append(percent)\n",
    "    val.append(maxg)\n",
    "    # print(maxg)\n",
    "    # plt.scatter(percent,maxg)\n",
    "    # plt.xlim(0,2)\n",
    "   # plt.ylim(-0.2,0.2)\n",
    "\n",
    "plt.figure(figsize=(10, 10))\n",
    "plt.plot(ind, val / wpi)\n",
    "plt.grid()\n",
    "plt.xlabel(\" $n_{H}/n_{Xe}$\")\n",
    "plt.ylabel(\"$\\gamma/\\omega_{pi}$\")"
   ]
  },
  {
   "cell_type": "code",
   "execution_count": 28,
   "metadata": {
    "ExecuteTime": {
     "end_time": "2017-08-31T12:00:24.210970Z",
     "start_time": "2017-08-31T12:00:18.407329Z"
    }
   },
   "outputs": [
    {
     "name": "stdout",
     "output_type": "stream",
     "text": [
      "27.0 %000000000002 %"
     ]
    },
    {
     "ename": "KeyboardInterrupt",
     "evalue": "",
     "output_type": "error",
     "traceback": [
      "\u001b[0;31m---------------------------------------------------------------------------\u001b[0m",
      "\u001b[0;31mKeyboardInterrupt\u001b[0m                         Traceback (most recent call last)",
      "\u001b[0;32m<ipython-input-28-c3c6f366506c>\u001b[0m in \u001b[0;36m<module>\u001b[0;34m()\u001b[0m\n\u001b[1;32m      2\u001b[0m \u001b[0mNbins\u001b[0m \u001b[0;34m=\u001b[0m \u001b[0;36m100\u001b[0m\u001b[0;34m\u001b[0m\u001b[0m\n\u001b[1;32m      3\u001b[0m \u001b[0;32mfor\u001b[0m \u001b[0mi\u001b[0m \u001b[0;32min\u001b[0m \u001b[0mrange\u001b[0m\u001b[0;34m(\u001b[0m\u001b[0mNbins\u001b[0m\u001b[0;34m)\u001b[0m\u001b[0;34m:\u001b[0m\u001b[0;34m\u001b[0m\u001b[0m\n\u001b[0;32m----> 4\u001b[0;31m     \u001b[0mtime\u001b[0m\u001b[0;34m.\u001b[0m\u001b[0msleep\u001b[0m\u001b[0;34m(\u001b[0m\u001b[0;36m0.2\u001b[0m\u001b[0;34m)\u001b[0m\u001b[0;34m\u001b[0m\u001b[0m\n\u001b[0m\u001b[1;32m      5\u001b[0m     \u001b[0mprint\u001b[0m\u001b[0;34m(\u001b[0m\u001b[0;34m\"\\r{:2} %\"\u001b[0m\u001b[0;34m.\u001b[0m\u001b[0mformat\u001b[0m\u001b[0;34m(\u001b[0m\u001b[0mi\u001b[0m\u001b[0;34m/\u001b[0m\u001b[0mNbins\u001b[0m \u001b[0;34m*\u001b[0m \u001b[0;36m100\u001b[0m\u001b[0;34m)\u001b[0m\u001b[0;34m,\u001b[0m\u001b[0mend\u001b[0m\u001b[0;34m=\u001b[0m\u001b[0;34m\"\"\u001b[0m\u001b[0;34m)\u001b[0m\u001b[0;34m\u001b[0m\u001b[0m\n",
      "\u001b[0;31mKeyboardInterrupt\u001b[0m: "
     ]
    }
   ],
   "source": [
    "import time\n",
    "Nbins = 100\n",
    "for i in range(Nbins):\n",
    "    time.sleep(0.2)\n",
    "    print(\"\\r{:2} %\".format(i/Nbins * 100),end=\"\")\n"
   ]
  },
  {
   "cell_type": "code",
   "execution_count": null,
   "metadata": {
    "collapsed": true
   },
   "outputs": [],
   "source": []
  }
 ],
 "metadata": {
  "celltoolbar": "Slideshow",
  "kernelspec": {
   "display_name": "Python 3",
   "language": "python",
   "name": "python3"
  },
  "language_info": {
   "codemirror_mode": {
    "name": "ipython",
    "version": 3
   },
   "file_extension": ".py",
   "mimetype": "text/x-python",
   "name": "python",
   "nbconvert_exporter": "python",
   "pygments_lexer": "ipython3",
   "version": "3.5.2"
  },
  "varInspector": {
   "cols": {
    "lenName": 16,
    "lenType": 16,
    "lenVar": 40
   },
   "kernels_config": {
    "python": {
     "delete_cmd_postfix": "",
     "delete_cmd_prefix": "del ",
     "library": "var_list.py",
     "varRefreshCmd": "print(var_dic_list())"
    },
    "r": {
     "delete_cmd_postfix": ") ",
     "delete_cmd_prefix": "rm(",
     "library": "var_list.r",
     "varRefreshCmd": "cat(var_dic_list()) "
    }
   },
   "types_to_exclude": [
    "module",
    "function",
    "builtin_function_or_method",
    "instance",
    "_Feature"
   ],
   "window_display": false
  }
 },
 "nbformat": 4,
 "nbformat_minor": 2
}
