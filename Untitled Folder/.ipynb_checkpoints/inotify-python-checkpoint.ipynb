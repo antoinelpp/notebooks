{
 "cells": [
  {
   "cell_type": "code",
   "execution_count": 2,
   "metadata": {},
   "outputs": [],
   "source": [
    "import inotify.adapters"
   ]
  },
  {
   "cell_type": "code",
   "execution_count": 6,
   "metadata": {},
   "outputs": [],
   "source": [
    "i = inotify.adapters.Inotify()\n",
    "\n",
    "i.add_watch(b'temperature_file.csv')"
   ]
  },
  {
   "cell_type": "code",
   "execution_count": 7,
   "metadata": {},
   "outputs": [
    {
     "name": "stdout",
     "output_type": "stream",
     "text": [
      "(_INOTIFY_EVENT(wd=1, mask=32, cookie=0, len=0), ['IN_OPEN'], b'temperature_file.csv', b'')\n",
      "(_INOTIFY_EVENT(wd=1, mask=1, cookie=0, len=0), ['IN_ACCESS'], b'temperature_file.csv', b'')\n",
      "(_INOTIFY_EVENT(wd=1, mask=1, cookie=0, len=0), ['IN_ACCESS'], b'temperature_file.csv', b'')\n",
      "(_INOTIFY_EVENT(wd=1, mask=1, cookie=0, len=0), ['IN_ACCESS'], b'temperature_file.csv', b'')\n",
      "(_INOTIFY_EVENT(wd=1, mask=1, cookie=0, len=0), ['IN_ACCESS'], b'temperature_file.csv', b'')\n",
      "(_INOTIFY_EVENT(wd=1, mask=1, cookie=0, len=0), ['IN_ACCESS'], b'temperature_file.csv', b'')\n",
      "(_INOTIFY_EVENT(wd=1, mask=1, cookie=0, len=0), ['IN_ACCESS'], b'temperature_file.csv', b'')\n",
      "(_INOTIFY_EVENT(wd=1, mask=1, cookie=0, len=0), ['IN_ACCESS'], b'temperature_file.csv', b'')\n",
      "(_INOTIFY_EVENT(wd=1, mask=8, cookie=0, len=0), ['IN_CLOSE_WRITE'], b'temperature_file.csv', b'')\n",
      "(_INOTIFY_EVENT(wd=1, mask=32, cookie=0, len=0), ['IN_OPEN'], b'temperature_file.csv', b'')\n",
      "(_INOTIFY_EVENT(wd=1, mask=1, cookie=0, len=0), ['IN_ACCESS'], b'temperature_file.csv', b'')\n",
      "(_INOTIFY_EVENT(wd=1, mask=16, cookie=0, len=0), ['IN_CLOSE_NOWRITE'], b'temperature_file.csv', b'')\n",
      "(_INOTIFY_EVENT(wd=1, mask=32, cookie=0, len=0), ['IN_OPEN'], b'temperature_file.csv', b'')\n",
      "(_INOTIFY_EVENT(wd=1, mask=2, cookie=0, len=0), ['IN_MODIFY'], b'temperature_file.csv', b'')\n",
      "(_INOTIFY_EVENT(wd=1, mask=8, cookie=0, len=0), ['IN_CLOSE_WRITE'], b'temperature_file.csv', b'')\n",
      "(_INOTIFY_EVENT(wd=1, mask=32, cookie=0, len=0), ['IN_OPEN'], b'temperature_file.csv', b'')\n",
      "(_INOTIFY_EVENT(wd=1, mask=2, cookie=0, len=0), ['IN_MODIFY'], b'temperature_file.csv', b'')\n",
      "(_INOTIFY_EVENT(wd=1, mask=2, cookie=0, len=0), ['IN_MODIFY'], b'temperature_file.csv', b'')\n",
      "(_INOTIFY_EVENT(wd=1, mask=8, cookie=0, len=0), ['IN_CLOSE_WRITE'], b'temperature_file.csv', b'')\n",
      "(_INOTIFY_EVENT(wd=1, mask=32, cookie=0, len=0), ['IN_OPEN'], b'temperature_file.csv', b'')\n",
      "(_INOTIFY_EVENT(wd=1, mask=8, cookie=0, len=0), ['IN_CLOSE_WRITE'], b'temperature_file.csv', b'')\n",
      "(_INOTIFY_EVENT(wd=1, mask=32, cookie=0, len=0), ['IN_OPEN'], b'temperature_file.csv', b'')\n",
      "(_INOTIFY_EVENT(wd=1, mask=8, cookie=0, len=0), ['IN_CLOSE_WRITE'], b'temperature_file.csv', b'')\n",
      "(_INOTIFY_EVENT(wd=1, mask=2, cookie=0, len=0), ['IN_MODIFY'], b'temperature_file.csv', b'')\n",
      "(_INOTIFY_EVENT(wd=1, mask=32, cookie=0, len=0), ['IN_OPEN'], b'temperature_file.csv', b'')\n",
      "(_INOTIFY_EVENT(wd=1, mask=2, cookie=0, len=0), ['IN_MODIFY'], b'temperature_file.csv', b'')\n",
      "(_INOTIFY_EVENT(wd=1, mask=8, cookie=0, len=0), ['IN_CLOSE_WRITE'], b'temperature_file.csv', b'')\n",
      "(_INOTIFY_EVENT(wd=1, mask=2, cookie=0, len=0), ['IN_MODIFY'], b'temperature_file.csv', b'')\n",
      "(_INOTIFY_EVENT(wd=1, mask=32, cookie=0, len=0), ['IN_OPEN'], b'temperature_file.csv', b'')\n",
      "(_INOTIFY_EVENT(wd=1, mask=2, cookie=0, len=0), ['IN_MODIFY'], b'temperature_file.csv', b'')\n",
      "(_INOTIFY_EVENT(wd=1, mask=8, cookie=0, len=0), ['IN_CLOSE_WRITE'], b'temperature_file.csv', b'')\n",
      "(_INOTIFY_EVENT(wd=1, mask=2, cookie=0, len=0), ['IN_MODIFY'], b'temperature_file.csv', b'')\n",
      "(_INOTIFY_EVENT(wd=1, mask=32, cookie=0, len=0), ['IN_OPEN'], b'temperature_file.csv', b'')\n",
      "(_INOTIFY_EVENT(wd=1, mask=2, cookie=0, len=0), ['IN_MODIFY'], b'temperature_file.csv', b'')\n",
      "(_INOTIFY_EVENT(wd=1, mask=8, cookie=0, len=0), ['IN_CLOSE_WRITE'], b'temperature_file.csv', b'')\n",
      "(_INOTIFY_EVENT(wd=1, mask=2, cookie=0, len=0), ['IN_MODIFY'], b'temperature_file.csv', b'')\n",
      "(_INOTIFY_EVENT(wd=1, mask=32, cookie=0, len=0), ['IN_OPEN'], b'temperature_file.csv', b'')\n",
      "(_INOTIFY_EVENT(wd=1, mask=2, cookie=0, len=0), ['IN_MODIFY'], b'temperature_file.csv', b'')\n",
      "(_INOTIFY_EVENT(wd=1, mask=8, cookie=0, len=0), ['IN_CLOSE_WRITE'], b'temperature_file.csv', b'')\n",
      "(_INOTIFY_EVENT(wd=1, mask=2, cookie=0, len=0), ['IN_MODIFY'], b'temperature_file.csv', b'')\n",
      "(_INOTIFY_EVENT(wd=1, mask=32, cookie=0, len=0), ['IN_OPEN'], b'temperature_file.csv', b'')\n",
      "(_INOTIFY_EVENT(wd=1, mask=2, cookie=0, len=0), ['IN_MODIFY'], b'temperature_file.csv', b'')\n",
      "(_INOTIFY_EVENT(wd=1, mask=8, cookie=0, len=0), ['IN_CLOSE_WRITE'], b'temperature_file.csv', b'')\n",
      "(_INOTIFY_EVENT(wd=1, mask=2, cookie=0, len=0), ['IN_MODIFY'], b'temperature_file.csv', b'')\n",
      "(_INOTIFY_EVENT(wd=1, mask=32, cookie=0, len=0), ['IN_OPEN'], b'temperature_file.csv', b'')\n",
      "(_INOTIFY_EVENT(wd=1, mask=2, cookie=0, len=0), ['IN_MODIFY'], b'temperature_file.csv', b'')\n",
      "(_INOTIFY_EVENT(wd=1, mask=8, cookie=0, len=0), ['IN_CLOSE_WRITE'], b'temperature_file.csv', b'')\n",
      "(_INOTIFY_EVENT(wd=1, mask=2, cookie=0, len=0), ['IN_MODIFY'], b'temperature_file.csv', b'')\n",
      "(_INOTIFY_EVENT(wd=1, mask=32, cookie=0, len=0), ['IN_OPEN'], b'temperature_file.csv', b'')\n",
      "(_INOTIFY_EVENT(wd=1, mask=2, cookie=0, len=0), ['IN_MODIFY'], b'temperature_file.csv', b'')\n",
      "(_INOTIFY_EVENT(wd=1, mask=8, cookie=0, len=0), ['IN_CLOSE_WRITE'], b'temperature_file.csv', b'')\n",
      "(_INOTIFY_EVENT(wd=1, mask=32, cookie=0, len=0), ['IN_OPEN'], b'temperature_file.csv', b'')\n",
      "(_INOTIFY_EVENT(wd=1, mask=1, cookie=0, len=0), ['IN_ACCESS'], b'temperature_file.csv', b'')\n",
      "(_INOTIFY_EVENT(wd=1, mask=1, cookie=0, len=0), ['IN_ACCESS'], b'temperature_file.csv', b'')\n",
      "(_INOTIFY_EVENT(wd=1, mask=1, cookie=0, len=0), ['IN_ACCESS'], b'temperature_file.csv', b'')\n",
      "(_INOTIFY_EVENT(wd=1, mask=1, cookie=0, len=0), ['IN_ACCESS'], b'temperature_file.csv', b'')\n",
      "(_INOTIFY_EVENT(wd=1, mask=2, cookie=0, len=0), ['IN_MODIFY'], b'temperature_file.csv', b'')\n",
      "(_INOTIFY_EVENT(wd=1, mask=32, cookie=0, len=0), ['IN_OPEN'], b'temperature_file.csv', b'')\n",
      "(_INOTIFY_EVENT(wd=1, mask=2, cookie=0, len=0), ['IN_MODIFY'], b'temperature_file.csv', b'')\n",
      "(_INOTIFY_EVENT(wd=1, mask=8, cookie=0, len=0), ['IN_CLOSE_WRITE'], b'temperature_file.csv', b'')\n",
      "(_INOTIFY_EVENT(wd=1, mask=1, cookie=0, len=0), ['IN_ACCESS'], b'temperature_file.csv', b'')\n",
      "(_INOTIFY_EVENT(wd=1, mask=1, cookie=0, len=0), ['IN_ACCESS'], b'temperature_file.csv', b'')\n",
      "(_INOTIFY_EVENT(wd=1, mask=1, cookie=0, len=0), ['IN_ACCESS'], b'temperature_file.csv', b'')\n",
      "(_INOTIFY_EVENT(wd=1, mask=1, cookie=0, len=0), ['IN_ACCESS'], b'temperature_file.csv', b'')\n",
      "(_INOTIFY_EVENT(wd=1, mask=1, cookie=0, len=0), ['IN_ACCESS'], b'temperature_file.csv', b'')\n",
      "(_INOTIFY_EVENT(wd=1, mask=1, cookie=0, len=0), ['IN_ACCESS'], b'temperature_file.csv', b'')\n",
      "(_INOTIFY_EVENT(wd=1, mask=2, cookie=0, len=0), ['IN_MODIFY'], b'temperature_file.csv', b'')\n",
      "(_INOTIFY_EVENT(wd=1, mask=32, cookie=0, len=0), ['IN_OPEN'], b'temperature_file.csv', b'')\n",
      "(_INOTIFY_EVENT(wd=1, mask=2, cookie=0, len=0), ['IN_MODIFY'], b'temperature_file.csv', b'')\n",
      "(_INOTIFY_EVENT(wd=1, mask=8, cookie=0, len=0), ['IN_CLOSE_WRITE'], b'temperature_file.csv', b'')\n",
      "(_INOTIFY_EVENT(wd=1, mask=8, cookie=0, len=0), ['IN_CLOSE_WRITE'], b'temperature_file.csv', b'')\n",
      "(_INOTIFY_EVENT(wd=1, mask=2, cookie=0, len=0), ['IN_MODIFY'], b'temperature_file.csv', b'')\n",
      "(_INOTIFY_EVENT(wd=1, mask=32, cookie=0, len=0), ['IN_OPEN'], b'temperature_file.csv', b'')\n",
      "(_INOTIFY_EVENT(wd=1, mask=2, cookie=0, len=0), ['IN_MODIFY'], b'temperature_file.csv', b'')\n",
      "(_INOTIFY_EVENT(wd=1, mask=8, cookie=0, len=0), ['IN_CLOSE_WRITE'], b'temperature_file.csv', b'')\n"
     ]
    },
    {
     "ename": "KeyboardInterrupt",
     "evalue": "",
     "output_type": "error",
     "traceback": [
      "\u001b[0;31m---------------------------------------------------------------------------\u001b[0m",
      "\u001b[0;31mKeyboardInterrupt\u001b[0m                         Traceback (most recent call last)",
      "\u001b[0;32m<ipython-input-7-247131bf52e1>\u001b[0m in \u001b[0;36m<module>\u001b[0;34m()\u001b[0m\n\u001b[0;32m----> 1\u001b[0;31m \u001b[0;32mfor\u001b[0m \u001b[0mevent\u001b[0m \u001b[0;32min\u001b[0m \u001b[0mi\u001b[0m\u001b[0;34m.\u001b[0m\u001b[0mevent_gen\u001b[0m\u001b[0;34m(\u001b[0m\u001b[0;34m)\u001b[0m\u001b[0;34m:\u001b[0m\u001b[0;34m\u001b[0m\u001b[0m\n\u001b[0m\u001b[1;32m      2\u001b[0m             \u001b[0;32mif\u001b[0m \u001b[0mevent\u001b[0m \u001b[0;32mis\u001b[0m \u001b[0;32mnot\u001b[0m \u001b[0;32mNone\u001b[0m\u001b[0;34m:\u001b[0m\u001b[0;34m\u001b[0m\u001b[0m\n\u001b[1;32m      3\u001b[0m                 \u001b[0mprint\u001b[0m\u001b[0;34m(\u001b[0m\u001b[0mevent\u001b[0m\u001b[0;34m)\u001b[0m\u001b[0;34m\u001b[0m\u001b[0m\n",
      "\u001b[0;32m~/venv/lib/python3.5/site-packages/inotify/adapters.py\u001b[0m in \u001b[0;36mevent_gen\u001b[0;34m(self)\u001b[0m\n\u001b[1;32m    165\u001b[0m \u001b[0;34m\u001b[0m\u001b[0m\n\u001b[1;32m    166\u001b[0m             \u001b[0;32mtry\u001b[0m\u001b[0;34m:\u001b[0m\u001b[0;34m\u001b[0m\u001b[0m\n\u001b[0;32m--> 167\u001b[0;31m                 \u001b[0mevents\u001b[0m \u001b[0;34m=\u001b[0m \u001b[0mself\u001b[0m\u001b[0;34m.\u001b[0m\u001b[0m__epoll\u001b[0m\u001b[0;34m.\u001b[0m\u001b[0mpoll\u001b[0m\u001b[0;34m(\u001b[0m\u001b[0mblock_duration_s\u001b[0m\u001b[0;34m)\u001b[0m\u001b[0;34m\u001b[0m\u001b[0m\n\u001b[0m\u001b[1;32m    168\u001b[0m             \u001b[0;32mexcept\u001b[0m \u001b[0mIOError\u001b[0m \u001b[0;32mas\u001b[0m \u001b[0me\u001b[0m\u001b[0;34m:\u001b[0m\u001b[0;34m\u001b[0m\u001b[0m\n\u001b[1;32m    169\u001b[0m                 \u001b[0;32mif\u001b[0m \u001b[0me\u001b[0m\u001b[0;34m.\u001b[0m\u001b[0merrno\u001b[0m \u001b[0;34m!=\u001b[0m \u001b[0mEINTR\u001b[0m\u001b[0;34m:\u001b[0m\u001b[0;34m\u001b[0m\u001b[0m\n",
      "\u001b[0;31mKeyboardInterrupt\u001b[0m: "
     ]
    }
   ],
   "source": [
    "for event in i.event_gen():\n",
    "            if event is not None:\n",
    "                print(event)"
   ]
  },
  {
   "cell_type": "code",
   "execution_count": null,
   "metadata": {},
   "outputs": [],
   "source": []
  }
 ],
 "metadata": {
  "kernelspec": {
   "display_name": "Python 3",
   "language": "python",
   "name": "python3"
  },
  "language_info": {
   "codemirror_mode": {
    "name": "ipython",
    "version": 3
   },
   "file_extension": ".py",
   "mimetype": "text/x-python",
   "name": "python",
   "nbconvert_exporter": "python",
   "pygments_lexer": "ipython3",
   "version": "3.5.2"
  },
  "toc": {
   "colors": {
    "hover_highlight": "#DAA520",
    "navigate_num": "#000000",
    "navigate_text": "#333333",
    "running_highlight": "#FF0000",
    "selected_highlight": "#FFD700",
    "sidebar_border": "#EEEEEE",
    "wrapper_background": "#FFFFFF"
   },
   "moveMenuLeft": true,
   "nav_menu": {
    "height": "12px",
    "width": "252px"
   },
   "navigate_menu": true,
   "number_sections": true,
   "sideBar": true,
   "skip_h1_title": false,
   "threshold": 4,
   "toc_cell": false,
   "toc_section_display": "block",
   "toc_window_display": false,
   "widenNotebook": false
  },
  "varInspector": {
   "cols": {
    "lenName": 16,
    "lenType": 16,
    "lenVar": 40
   },
   "kernels_config": {
    "python": {
     "delete_cmd_postfix": "",
     "delete_cmd_prefix": "del ",
     "library": "var_list.py",
     "varRefreshCmd": "print(var_dic_list())"
    },
    "r": {
     "delete_cmd_postfix": ") ",
     "delete_cmd_prefix": "rm(",
     "library": "var_list.r",
     "varRefreshCmd": "cat(var_dic_list()) "
    }
   },
   "types_to_exclude": [
    "module",
    "function",
    "builtin_function_or_method",
    "instance",
    "_Feature"
   ],
   "window_display": false
  }
 },
 "nbformat": 4,
 "nbformat_minor": 2
}
