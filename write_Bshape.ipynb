{
 "cells": [
  {
   "cell_type": "markdown",
   "metadata": {},
   "source": [
    "# write an input file for Fortran code"
   ]
  },
  {
   "cell_type": "code",
   "execution_count": 3,
   "metadata": {
    "ExecuteTime": {
     "end_time": "2017-12-21T09:01:30.587971Z",
     "start_time": "2017-12-21T09:01:29.545770Z"
    }
   },
   "outputs": [],
   "source": [
    "import numpy as np\n",
    "\n",
    "#define Magnetic field shape\n",
    "Ny , Nx = 1048,248\n",
    "By = np.ones((Nx,Ny))\n",
    "\n",
    "for x in np.arange(Nx):\n",
    "    for y in np.arange(Ny):\n",
    "        #B(x,y)\n",
    "        By[x,y] =  (0.0377 - 0.0022*y*0.02 + 0.0001*(y*0.02)**2)/0.0260"
   ]
  },
  {
   "cell_type": "code",
   "execution_count": 4,
   "metadata": {
    "ExecuteTime": {
     "end_time": "2017-12-21T09:01:34.416209Z",
     "start_time": "2017-12-21T09:01:34.213375Z"
    }
   },
   "outputs": [
    {
     "data": {
      "text/plain": [
       "(0, 1048)"
      ]
     },
     "execution_count": 4,
     "metadata": {},
     "output_type": "execute_result"
    },
    {
     "data": {
      "image/png": "[encoded data removed]",
      "text/plain": [
       "<matplotlib.figure.Figure at 0x7f750d5662b0>"
      ]
     },
     "metadata": {},
     "output_type": "display_data"
    }
   ],
   "source": [
    "import matplotlib.pyplot as plt\n",
    "%matplotlib inline\n",
    "\n",
    "plt.figure(figsize=(10,5))\n",
    "plt.subplot(121)\n",
    "plt.imshow(By,interpolation=\"nearest\",aspect=Ny/Nx)\n",
    "\n",
    "plt.subplot(122)\n",
    "plt.plot(By[int(Nx/2),:])\n",
    "plt.xlim(0,Ny)\n"
   ]
  },
  {
   "cell_type": "code",
   "execution_count": 5,
   "metadata": {
    "ExecuteTime": {
     "end_time": "2017-12-21T09:11:54.768091Z",
     "start_time": "2017-12-21T09:11:54.564326Z"
    }
   },
   "outputs": [],
   "source": [
    "filename = \"/home/tavant/LPPic-Xe/input/Bshape.dat\"\n",
    "\n",
    "with open(filename,'w') as outfile:\n",
    "    # I'm writing a header here just for the sake of readability\n",
    "    # Any line starting with \"#\" will be ignored by numpy.loadtxt\n",
    "    \n",
    "    outfile.write('# Matrix of the B shape\\n')\n",
    "    outfile.write('# given shape of Bx, By and Bz in Ox and Oy\\n')\n",
    "    outfile.write('{0} {1}\\n'.format(Nx,Ny))\n",
    "\n",
    "    for data_slice in np.transpose(By):\n",
    "        data_slice.tofile(outfile,sep = ' ',format=\"%6.5f\")\n",
    "        outfile.write('\\n')"
   ]
  },
  {
   "cell_type": "code",
   "execution_count": null,
   "metadata": {
    "collapsed": true
   },
   "outputs": [],
   "source": [
    "By._"
   ]
  }
 ],
 "metadata": {
  "kernelspec": {
   "display_name": "Python 3",
   "language": "python",
   "name": "python3"
  },
  "language_info": {
   "codemirror_mode": {
    "name": "ipython",
    "version": 3
   },
   "file_extension": ".py",
   "mimetype": "text/x-python",
   "name": "python",
   "nbconvert_exporter": "python",
   "pygments_lexer": "ipython3",
   "version": "3.5.2"
  },
  "toc": {
   "colors": {
    "hover_highlight": "#DAA520",
    "navigate_num": "#000000",
    "navigate_text": "#333333",
    "running_highlight": "#FF0000",
    "selected_highlight": "#FFD700",
    "sidebar_border": "#EEEEEE",
    "wrapper_background": "#FFFFFF"
   },
   "moveMenuLeft": true,
   "nav_menu": {
    "height": "34px",
    "width": "252px"
   },
   "navigate_menu": true,
   "number_sections": true,
   "sideBar": true,
   "skip_h1_title": false,
   "threshold": 4,
   "toc_cell": false,
   "toc_section_display": "block",
   "toc_window_display": false,
   "widenNotebook": false
  },
  "varInspector": {
   "cols": {
    "lenName": 16,
    "lenType": 16,
    "lenVar": 40
   },
   "kernels_config": {
    "python": {
     "delete_cmd_postfix": "",
     "delete_cmd_prefix": "del ",
     "library": "var_list.py",
     "varRefreshCmd": "print(var_dic_list())"
    },
    "r": {
     "delete_cmd_postfix": ") ",
     "delete_cmd_prefix": "rm(",
     "library": "var_list.r",
     "varRefreshCmd": "cat(var_dic_list()) "
    }
   },
   "types_to_exclude": [
    "module",
    "function",
    "builtin_function_or_method",
    "instance",
    "_Feature"
   ],
   "window_display": false
  }
 },
 "nbformat": 4,
 "nbformat_minor": 2
}
