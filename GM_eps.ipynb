{
 "cells": [
  {
   "cell_type": "code",
   "execution_count": 1,
   "metadata": {
    "collapsed": true
   },
   "outputs": [],
   "source": [
    "import numpy as np\n",
    "import matplotlib.pyplot as plt\n",
    "import matplotlib.cm as cm\n",
    "import matplotlib.patches as patches\n",
    "import pylab\n",
    "import glob\n",
    "from scipy import interpolate\n",
    "import math\n",
    "\n",
    "#PIC values\n",
    "epsilon_PIC = np.zeros(12)\n",
    "epsilon_PIC[0]  = 60.\n",
    "epsilon_PIC[1]  = 30.\n",
    "epsilon_PIC[2]  = 45.\n",
    "epsilon_PIC[3]  = 55.\n",
    "epsilon_PIC[4]  = 50.\n",
    "epsilon_PIC[5]  = 40.\n",
    "epsilon_PIC[6]  = 38.\n",
    "epsilon_PIC[7]  = 3.\n",
    "epsilon_PIC[8]  = 8.\n",
    "epsilon_PIC[9]  = 15.\n",
    "epsilon_PIC[10] = 100.\n",
    "epsilon_PIC[11] = 200.\n",
    "\n",
    "sigma_PIC = np.zeros(12)\n",
    "sigma_PIC[0]  = 0.78\n",
    "sigma_PIC[1]  = 0.988\n",
    "sigma_PIC[2]  = 0.92\n",
    "sigma_PIC[3]  = 0.81\n",
    "sigma_PIC[4]  = 0.85\n",
    "sigma_PIC[5]  = 0.97\n",
    "sigma_PIC[6]  = 0.975\n",
    "sigma_PIC[7]  = 0.999\n",
    "sigma_PIC[8]  = 0.998\n",
    "sigma_PIC[9]  = 0.997\n",
    "sigma_PIC[10] = 0.66\n",
    "sigma_PIC[11] = 0.58\n",
    "\n",
    "Phi_PIC = np.zeros(12)\n",
    "Phi_PIC[0]  = 150.\n",
    "Phi_PIC[1]  = 50.\n",
    "Phi_PIC[2]  = 90.\n",
    "Phi_PIC[3]  = 130.\n",
    "Phi_PIC[4]  = 100.\n",
    "Phi_PIC[5]  = 70.\n",
    "Phi_PIC[6]  = 57.\n",
    "Phi_PIC[7]  = 34.\n",
    "Phi_PIC[8]  = 37.\n",
    "Phi_PIC[9]  = 42.\n",
    "Phi_PIC[10] = 155.\n",
    "Phi_PIC[11] = 159.\n",
    "\n",
    "Te_PIC = np.zeros(12)\n",
    "Te_PIC[0]  = 47.\n",
    "Te_PIC[1]  = 35.\n",
    "Te_PIC[2]  = 43.\n",
    "Te_PIC[3]  = 47.\n",
    "Te_PIC[4]  = 46.\n",
    "Te_PIC[5]  = 39.\n",
    "Te_PIC[6]  = 37.5\n",
    "Te_PIC[7]  = 32.\n",
    "Te_PIC[8]  = 33.\n",
    "Te_PIC[9]  = 34.\n",
    "Te_PIC[10] = 48.\n",
    "Te_PIC[11] = 48.1\n"
   ]
  },
  {
   "cell_type": "code",
   "execution_count": 2,
   "metadata": {},
   "outputs": [
    {
     "name": "stdout",
     "output_type": "stream",
     "text": [
      "omega_c 3555555555.555555\n",
      "v_zi 17121.03300015412\n",
      "mu_cla 0.1406238876430763\n",
      "[  13.33810043   13.43809986   13.53809929 ...,  199.73703003  199.83703613\n",
      "  199.93704224]\n",
      "1000000.0\n"
     ]
    }
   ],
   "source": [
    "\n",
    "#physical parameters\n",
    "q=1.6e-19\n",
    "me=9e-31\n",
    "mi=131*1.67e-27\n",
    "\n",
    "sigma_0 = 0.5\n",
    "ne = 3e17\n",
    "Te_refl=1.0\n",
    "B0  = 20.0e-3\n",
    "E0  = 2.0e4\n",
    "nu_m=1e7\n",
    "Lx = 5.12E-003\n",
    "Ly = 2.0E-002\n",
    "Lz = 1.002E-002\n",
    "sigma_max = 2.9\n",
    "\n",
    "lim = 13.3381\n",
    "\n",
    "#define constant physical values\n",
    "#omega_ce\n",
    "omega_c = q*B0/me\n",
    "print('omega_c',omega_c)\n",
    "\n",
    "#v_zi\n",
    "v_zi = math.sqrt( (2.0*q*E0*Lz) / mi )\n",
    "print('v_zi',v_zi)\n",
    "\n",
    "#mu_cla\n",
    "mu_cla = q /( me*nu_m*(1.0 + (omega_c**2 / nu_m**2)))\n",
    "print('mu_cla',mu_cla)\n",
    "\n",
    "#define epsilon_star\n",
    "step = 0.1\n",
    "epsilon = np.arange(lim,200,step, dtype='f')\n",
    "print(epsilon)\n",
    "\n",
    "#define Te_eq, Ploss_eq, Ploss_eReq to be filled up\n",
    "Te_eq = np.arange(lim,200,step, dtype='f')\n",
    "Ploss_eq = np.arange(lim,200,step, dtype='f')\n",
    "Ploss_eReq = np.arange(lim,200,step, dtype='f')\n",
    "\n",
    "#drift velocity\n",
    "v_d = E0/B0\n",
    "print(v_d)\n"
   ]
  },
  {
   "cell_type": "code",
   "execution_count": 5,
   "metadata": {
    "collapsed": true
   },
   "outputs": [],
   "source": [
    "%load_ext snakeviz"
   ]
  },
  {
   "cell_type": "code",
   "execution_count": 7,
   "metadata": {},
   "outputs": [
    {
     "name": "stdout",
     "output_type": "stream",
     "text": [
      " \n",
      "*** Profile stats marshalled to file '/tmp/tmpc6f30lru'. \n"
     ]
    }
   ],
   "source": [
    "%%snakeviz\n",
    "#for each epsilon get the physical values needed to obtain Te_eq\n",
    "\n",
    "for i in range(np.shape(epsilon)[0]):\n",
    "    #physical values needed\n",
    "    Te     = np.arange(0.01,0.99*epsilon[i],0.01) #[eV] electron temperature\n",
    "    sigma  = ( sigma_0 + Te /epsilon[i]* (1.-sigma_0) ) + np.exp(-4.8*epsilon[i]/Te)*( sigma_max - sigma_0 - ( 1.-sigma_0 )*( 9.6*epsilon[i] + 2.*Te )/( 2.*epsilon[i] ) )#SEE yield\n",
    "    Phi    = Te * np.log( (1.-sigma)* np.sqrt(mi /(2. * math.pi*me))) + Te*0.5 #[V] plasma potential\n",
    "    v_th   = np.sqrt(8.*q*Te/(math.pi*me)) #[m/s] thermal velocity of electrons\n",
    "    cs     = np.sqrt(q*Te/mi) #[m/s] ion sound speed\n",
    "    mu_eff = mu_cla*( 1. + ( q*B0*v_zi*Te ) / ( me*nu_m*E0*4.*math.sqrt(6)*cs*Lz ) ) #[m2/(Vs)] electron cross field mobility\n",
    "\n",
    "    Gamma_eR = 0.25*ne*v_th*np.exp(-Phi/Te)\n",
    "    Q_eR     = q*Gamma_eR*(Phi+2.*Te) - q*sigma*Gamma_eR*(Phi+2.*Te_refl)\n",
    "    Ploss_eR = Q_eR*2.*Lz*Lx\n",
    "\n",
    "    Gamma_ez = ne*mu_eff*E0\n",
    "    #Q_ez     = q*Gamma_ez*2.*Te #si pertes sur les deux parois en (Oz), rajouter un 2. devant l'expression\n",
    "    Q_ez     = q*Gamma_ez*(3/2*Te)  #si pertes sur une parois en (Oz),/\n",
    "    Ploss_ez = Q_ez*Ly*Lx\n",
    "\n",
    "    Ploss    = Ploss_ez + Ploss_eR\n",
    "\n",
    "    Pabs     = q*ne*mu_eff*E0**2*Lx*Ly*Lz\n",
    "\n",
    "    diff_P   = np.abs(Pabs - Ploss)\n",
    "\n",
    "    if epsilon[i] > 100000000:\n",
    "        plt.close()\n",
    "        plt.plot(Te,diff_P)\n",
    "        plt.title(epsilon[i])\n",
    "        plt.show()\n",
    "\n",
    "    if diff_P[int(np.argmin(diff_P))] < 4:\n",
    "        Te_eq[i]    = Te[int(np.argmin(diff_P))]\n",
    "        Ploss_eq[i] = Ploss[int(np.argmin(diff_P))]\n",
    "        Ploss_eReq[i] = Ploss_eR[int(np.argmin(diff_P))]\n",
    "    else:\n",
    "        Te_eq[i]    = 0.0\n",
    "        Ploss_eq[i] = 0.0\n",
    "        Ploss_eReq[i] = 0.0\n"
   ]
  },
  {
   "cell_type": "code",
   "execution_count": 5,
   "metadata": {},
   "outputs": [
    {
     "ename": "ImportError",
     "evalue": "No module named 'snakeviz'",
     "output_type": "error",
     "traceback": [
      "\u001b[0;31m--------------------------------------\u001b[0m",
      "\u001b[0;31mImportError\u001b[0mTraceback (most recent call last)",
      "\u001b[0;32m<ipython-input-5-ea7c2c0857c4>\u001b[0m in \u001b[0;36m<module>\u001b[0;34m()\u001b[0m\n\u001b[0;32m----> 1\u001b[0;31m \u001b[0mget_ipython\u001b[0m\u001b[0;34m(\u001b[0m\u001b[0;34m)\u001b[0m\u001b[0;34m.\u001b[0m\u001b[0mmagic\u001b[0m\u001b[0;34m(\u001b[0m\u001b[0;34m'load_ext snakeviz'\u001b[0m\u001b[0;34m)\u001b[0m\u001b[0;34m\u001b[0m\u001b[0m\n\u001b[0m",
      "\u001b[0;32m/home/tavant/venv/lib/python3.5/site-packages/IPython/core/interactiveshell.py\u001b[0m in \u001b[0;36mmagic\u001b[0;34m(self, arg_s)\u001b[0m\n\u001b[1;32m   2128\u001b[0m         \u001b[0mmagic_name\u001b[0m\u001b[0;34m,\u001b[0m \u001b[0m_\u001b[0m\u001b[0;34m,\u001b[0m \u001b[0mmagic_arg_s\u001b[0m \u001b[0;34m=\u001b[0m \u001b[0marg_s\u001b[0m\u001b[0;34m.\u001b[0m\u001b[0mpartition\u001b[0m\u001b[0;34m(\u001b[0m\u001b[0;34m' '\u001b[0m\u001b[0;34m)\u001b[0m\u001b[0;34m\u001b[0m\u001b[0m\n\u001b[1;32m   2129\u001b[0m         \u001b[0mmagic_name\u001b[0m \u001b[0;34m=\u001b[0m \u001b[0mmagic_name\u001b[0m\u001b[0;34m.\u001b[0m\u001b[0mlstrip\u001b[0m\u001b[0;34m(\u001b[0m\u001b[0mprefilter\u001b[0m\u001b[0;34m.\u001b[0m\u001b[0mESC_MAGIC\u001b[0m\u001b[0;34m)\u001b[0m\u001b[0;34m\u001b[0m\u001b[0m\n\u001b[0;32m-> 2130\u001b[0;31m         \u001b[0;32mreturn\u001b[0m \u001b[0mself\u001b[0m\u001b[0;34m.\u001b[0m\u001b[0mrun_line_magic\u001b[0m\u001b[0;34m(\u001b[0m\u001b[0mmagic_name\u001b[0m\u001b[0;34m,\u001b[0m \u001b[0mmagic_arg_s\u001b[0m\u001b[0;34m)\u001b[0m\u001b[0;34m\u001b[0m\u001b[0m\n\u001b[0m\u001b[1;32m   2131\u001b[0m \u001b[0;34m\u001b[0m\u001b[0m\n\u001b[1;32m   2132\u001b[0m     \u001b[0;31m#-------------------------------------------------------------------------\u001b[0m\u001b[0;34m\u001b[0m\u001b[0;34m\u001b[0m\u001b[0m\n",
      "\u001b[0;32m/home/tavant/venv/lib/python3.5/site-packages/IPython/core/interactiveshell.py\u001b[0m in \u001b[0;36mrun_line_magic\u001b[0;34m(self, magic_name, line)\u001b[0m\n\u001b[1;32m   2049\u001b[0m                 \u001b[0mkwargs\u001b[0m\u001b[0;34m[\u001b[0m\u001b[0;34m'local_ns'\u001b[0m\u001b[0;34m]\u001b[0m \u001b[0;34m=\u001b[0m \u001b[0msys\u001b[0m\u001b[0;34m.\u001b[0m\u001b[0m_getframe\u001b[0m\u001b[0;34m(\u001b[0m\u001b[0mstack_depth\u001b[0m\u001b[0;34m)\u001b[0m\u001b[0;34m.\u001b[0m\u001b[0mf_locals\u001b[0m\u001b[0;34m\u001b[0m\u001b[0m\n\u001b[1;32m   2050\u001b[0m             \u001b[0;32mwith\u001b[0m \u001b[0mself\u001b[0m\u001b[0;34m.\u001b[0m\u001b[0mbuiltin_trap\u001b[0m\u001b[0;34m:\u001b[0m\u001b[0;34m\u001b[0m\u001b[0m\n\u001b[0;32m-> 2051\u001b[0;31m                 \u001b[0mresult\u001b[0m \u001b[0;34m=\u001b[0m \u001b[0mfn\u001b[0m\u001b[0;34m(\u001b[0m\u001b[0;34m*\u001b[0m\u001b[0margs\u001b[0m\u001b[0;34m,\u001b[0m\u001b[0;34m**\u001b[0m\u001b[0mkwargs\u001b[0m\u001b[0;34m)\u001b[0m\u001b[0;34m\u001b[0m\u001b[0m\n\u001b[0m\u001b[1;32m   2052\u001b[0m             \u001b[0;32mreturn\u001b[0m \u001b[0mresult\u001b[0m\u001b[0;34m\u001b[0m\u001b[0m\n\u001b[1;32m   2053\u001b[0m \u001b[0;34m\u001b[0m\u001b[0m\n",
      "\u001b[0;32m<decorator-gen-63>\u001b[0m in \u001b[0;36mload_ext\u001b[0;34m(self, module_str)\u001b[0m\n",
      "\u001b[0;32m/home/tavant/venv/lib/python3.5/site-packages/IPython/core/magic.py\u001b[0m in \u001b[0;36m<lambda>\u001b[0;34m(f, *a, **k)\u001b[0m\n\u001b[1;32m    186\u001b[0m     \u001b[0;31m# but it's overkill for just that one bit of state.\u001b[0m\u001b[0;34m\u001b[0m\u001b[0;34m\u001b[0m\u001b[0m\n\u001b[1;32m    187\u001b[0m     \u001b[0;32mdef\u001b[0m \u001b[0mmagic_deco\u001b[0m\u001b[0;34m(\u001b[0m\u001b[0marg\u001b[0m\u001b[0;34m)\u001b[0m\u001b[0;34m:\u001b[0m\u001b[0;34m\u001b[0m\u001b[0m\n\u001b[0;32m--> 188\u001b[0;31m         \u001b[0mcall\u001b[0m \u001b[0;34m=\u001b[0m \u001b[0;32mlambda\u001b[0m \u001b[0mf\u001b[0m\u001b[0;34m,\u001b[0m \u001b[0;34m*\u001b[0m\u001b[0ma\u001b[0m\u001b[0;34m,\u001b[0m \u001b[0;34m**\u001b[0m\u001b[0mk\u001b[0m\u001b[0;34m:\u001b[0m \u001b[0mf\u001b[0m\u001b[0;34m(\u001b[0m\u001b[0;34m*\u001b[0m\u001b[0ma\u001b[0m\u001b[0;34m,\u001b[0m \u001b[0;34m**\u001b[0m\u001b[0mk\u001b[0m\u001b[0;34m)\u001b[0m\u001b[0;34m\u001b[0m\u001b[0m\n\u001b[0m\u001b[1;32m    189\u001b[0m \u001b[0;34m\u001b[0m\u001b[0m\n\u001b[1;32m    190\u001b[0m         \u001b[0;32mif\u001b[0m \u001b[0mcallable\u001b[0m\u001b[0;34m(\u001b[0m\u001b[0marg\u001b[0m\u001b[0;34m)\u001b[0m\u001b[0;34m:\u001b[0m\u001b[0;34m\u001b[0m\u001b[0m\n",
      "\u001b[0;32m/home/tavant/venv/lib/python3.5/site-packages/IPython/core/magics/extension.py\u001b[0m in \u001b[0;36mload_ext\u001b[0;34m(self, module_str)\u001b[0m\n\u001b[1;32m     34\u001b[0m         \u001b[0;32mif\u001b[0m \u001b[0;32mnot\u001b[0m \u001b[0mmodule_str\u001b[0m\u001b[0;34m:\u001b[0m\u001b[0;34m\u001b[0m\u001b[0m\n\u001b[1;32m     35\u001b[0m             \u001b[0;32mraise\u001b[0m \u001b[0mUsageError\u001b[0m\u001b[0;34m(\u001b[0m\u001b[0;34m'Missing module name.'\u001b[0m\u001b[0;34m)\u001b[0m\u001b[0;34m\u001b[0m\u001b[0m\n\u001b[0;32m---> 36\u001b[0;31m         \u001b[0mres\u001b[0m \u001b[0;34m=\u001b[0m \u001b[0mself\u001b[0m\u001b[0;34m.\u001b[0m\u001b[0mshell\u001b[0m\u001b[0;34m.\u001b[0m\u001b[0mextension_manager\u001b[0m\u001b[0;34m.\u001b[0m\u001b[0mload_extension\u001b[0m\u001b[0;34m(\u001b[0m\u001b[0mmodule_str\u001b[0m\u001b[0;34m)\u001b[0m\u001b[0;34m\u001b[0m\u001b[0m\n\u001b[0m\u001b[1;32m     37\u001b[0m \u001b[0;34m\u001b[0m\u001b[0m\n\u001b[1;32m     38\u001b[0m         \u001b[0;32mif\u001b[0m \u001b[0mres\u001b[0m \u001b[0;34m==\u001b[0m \u001b[0;34m'already loaded'\u001b[0m\u001b[0;34m:\u001b[0m\u001b[0;34m\u001b[0m\u001b[0m\n",
      "\u001b[0;32m/home/tavant/venv/lib/python3.5/site-packages/IPython/core/extensions.py\u001b[0m in \u001b[0;36mload_extension\u001b[0;34m(self, module_str)\u001b[0m\n\u001b[1;32m     85\u001b[0m             \u001b[0;32mif\u001b[0m \u001b[0mmodule_str\u001b[0m \u001b[0;32mnot\u001b[0m \u001b[0;32min\u001b[0m \u001b[0msys\u001b[0m\u001b[0;34m.\u001b[0m\u001b[0mmodules\u001b[0m\u001b[0;34m:\u001b[0m\u001b[0;34m\u001b[0m\u001b[0m\n\u001b[1;32m     86\u001b[0m                 \u001b[0;32mwith\u001b[0m \u001b[0mprepended_to_syspath\u001b[0m\u001b[0;34m(\u001b[0m\u001b[0mself\u001b[0m\u001b[0;34m.\u001b[0m\u001b[0mipython_extension_dir\u001b[0m\u001b[0;34m)\u001b[0m\u001b[0;34m:\u001b[0m\u001b[0;34m\u001b[0m\u001b[0m\n\u001b[0;32m---> 87\u001b[0;31m                     \u001b[0mmod\u001b[0m \u001b[0;34m=\u001b[0m \u001b[0mimport_module\u001b[0m\u001b[0;34m(\u001b[0m\u001b[0mmodule_str\u001b[0m\u001b[0;34m)\u001b[0m\u001b[0;34m\u001b[0m\u001b[0m\n\u001b[0m\u001b[1;32m     88\u001b[0m                     \u001b[0;32mif\u001b[0m \u001b[0mmod\u001b[0m\u001b[0;34m.\u001b[0m\u001b[0m__file__\u001b[0m\u001b[0;34m.\u001b[0m\u001b[0mstartswith\u001b[0m\u001b[0;34m(\u001b[0m\u001b[0mself\u001b[0m\u001b[0;34m.\u001b[0m\u001b[0mipython_extension_dir\u001b[0m\u001b[0;34m)\u001b[0m\u001b[0;34m:\u001b[0m\u001b[0;34m\u001b[0m\u001b[0m\n\u001b[1;32m     89\u001b[0m                         print((\"Loading extensions from {dir} is deprecated. \"\n",
      "\u001b[0;32m/home/tavant/venv/lib/python3.5/importlib/__init__.py\u001b[0m in \u001b[0;36mimport_module\u001b[0;34m(name, package)\u001b[0m\n\u001b[1;32m    124\u001b[0m                 \u001b[0;32mbreak\u001b[0m\u001b[0;34m\u001b[0m\u001b[0m\n\u001b[1;32m    125\u001b[0m             \u001b[0mlevel\u001b[0m \u001b[0;34m+=\u001b[0m \u001b[0;36m1\u001b[0m\u001b[0;34m\u001b[0m\u001b[0m\n\u001b[0;32m--> 126\u001b[0;31m     \u001b[0;32mreturn\u001b[0m \u001b[0m_bootstrap\u001b[0m\u001b[0;34m.\u001b[0m\u001b[0m_gcd_import\u001b[0m\u001b[0;34m(\u001b[0m\u001b[0mname\u001b[0m\u001b[0;34m[\u001b[0m\u001b[0mlevel\u001b[0m\u001b[0;34m:\u001b[0m\u001b[0;34m]\u001b[0m\u001b[0;34m,\u001b[0m \u001b[0mpackage\u001b[0m\u001b[0;34m,\u001b[0m \u001b[0mlevel\u001b[0m\u001b[0;34m)\u001b[0m\u001b[0;34m\u001b[0m\u001b[0m\n\u001b[0m\u001b[1;32m    127\u001b[0m \u001b[0;34m\u001b[0m\u001b[0m\n\u001b[1;32m    128\u001b[0m \u001b[0;34m\u001b[0m\u001b[0m\n",
      "\u001b[0;32m/home/tavant/venv/lib/python3.5/importlib/_bootstrap.py\u001b[0m in \u001b[0;36m_gcd_import\u001b[0;34m(name, package, level)\u001b[0m\n",
      "\u001b[0;32m/home/tavant/venv/lib/python3.5/importlib/_bootstrap.py\u001b[0m in \u001b[0;36m_find_and_load\u001b[0;34m(name, import_)\u001b[0m\n",
      "\u001b[0;32m/home/tavant/venv/lib/python3.5/importlib/_bootstrap.py\u001b[0m in \u001b[0;36m_find_and_load_unlocked\u001b[0;34m(name, import_)\u001b[0m\n",
      "\u001b[0;31mImportError\u001b[0m: No module named 'snakeviz'"
     ]
    }
   ],
   "source": []
  },
  {
   "cell_type": "code",
   "execution_count": 4,
   "metadata": {},
   "outputs": [
    {
     "name": "stdout",
     "output_type": "stream",
     "text": [
      "0.02\n",
      "17121.03300015412\n",
      "0.1406238876430763\n",
      "v_dz = [ 72712.29114899  63132.44673891  69671.69921633  72712.29114899\n",
      "  71964.67806699  66486.07570829  65249.57745967  60489.39986989\n",
      "  61383.66904536  62264.48826512  73451.99231335  73525.5368565 ]  m/s\n"
     ]
    },
    {
     "data": {
      "image/png": "[encoded data removed]",
      "text/plain": [
       "<matplotlib.figure.Figure at 0x7f7896914860>"
      ]
     },
     "metadata": {},
     "output_type": "display_data"
    }
   ],
   "source": [
    "print(B0)\n",
    "print(v_zi)\n",
    "print(mu_cla)\n",
    "\n",
    "Te = Te_PIC\n",
    "cs     = np.sqrt(q*Te/mi) #[m/s] ion sound speed\n",
    "mu_eff = mu_cla*( 1. + ( q*B0*v_zi*Te ) / ( me*nu_m*E0*4.*math.sqrt(6)*cs*Lz ) )\n",
    "print(\"v_dz =\",mu_eff*E0,\" m/s\")\n",
    "\n",
    "plt.scatter(Te,mu_eff*E0)\n",
    "plt.show()"
   ]
  },
  {
   "cell_type": "code",
   "execution_count": 5,
   "metadata": {},
   "outputs": [
    {
     "data": {
      "image/png": "[encoded data removed]",
      "text/plain": [
       "<matplotlib.figure.Figure at 0x7f78c98ed4a8>"
      ]
     },
     "metadata": {},
     "output_type": "display_data"
    },
    {
     "data": {
      "image/png": "[encoded data removed]",
      "text/plain": [
       "<matplotlib.figure.Figure at 0x7f78c98ab160>"
      ]
     },
     "metadata": {},
     "output_type": "display_data"
    },
    {
     "data": {
      "image/png": "[encoded data removed]",
      "text/plain": [
       "<matplotlib.figure.Figure at 0x7f78943cacc0>"
      ]
     },
     "metadata": {},
     "output_type": "display_data"
    },
    {
     "data": {
      "image/png": "[encoded data removed]",
      "text/plain": [
       "<matplotlib.figure.Figure at 0x7f78c98a3f98>"
      ]
     },
     "metadata": {},
     "output_type": "display_data"
    }
   ],
   "source": [
    "#plot Te_eq = f(epsilon)\n",
    "plt.close()\n",
    "\n",
    "plt.plot(epsilon,Te_eq,linestyle='--',label='theory')\n",
    "plt.plot(epsilon_PIC,Te_PIC,marker='o',linestyle='none',label='PIC')\n",
    "\n",
    "plt.xlabel('$\\epsilon^{*}$ [eV]')\n",
    "plt.ylabel('$T_e$ [eV]')\n",
    "plt.legend(loc='lower right')\n",
    "plt.grid()\n",
    "plt.xlim([0,205])\n",
    "\n",
    "currentAxis = plt.gca()\n",
    "currentAxis.add_patch(patches.Rectangle( (0.0,0.0), lim, 100., hatch='/', edgecolor='0.2', facecolor='0.5', linestyle='--'))\n",
    "\n",
    "plt.savefig('Te_epsilon.png')\n",
    "plt.show()\n",
    "\n",
    "#obtain the SEE rate\n",
    "rate = ( sigma_0 + Te_eq /epsilon* (1. - sigma_0) ) + np.exp(-4.8*epsilon/Te_eq)*( sigma_max - sigma_0 - ( 1.-sigma_0 )*( 9.6*epsilon + 2.*Te_eq )/( 2.*epsilon ) )\n",
    "plt.close()\n",
    "\n",
    "plt.plot(epsilon,rate,linestyle='--',label='theory')\n",
    "plt.plot(epsilon_PIC,sigma_PIC,marker='o',linestyle='none',label='PIC')\n",
    "\n",
    "plt.xlabel('$\\epsilon^{*}$ [eV]')\n",
    "plt.ylabel('$\\sigma$')\n",
    "plt.legend(loc='best')\n",
    "plt.grid()\n",
    "plt.xlim([0,205])\n",
    "#plt.ylim([0.7,1.1])\n",
    "\n",
    "currentAxis = plt.gca()\n",
    "currentAxis.add_patch(patches.Rectangle( (0.0,0.0), lim, 100., hatch='/', edgecolor='0.2', facecolor='0.5', linestyle='--'))\n",
    "\n",
    "plt.savefig('sigma_epsilon.png')\n",
    "plt.show()\n",
    "\n",
    "#obtain the sheath potential\n",
    "Phi_tot = Te_eq * np.log( (1.-rate)* np.sqrt(mi /(2. * math.pi*me))) + Te_eq*0.5\n",
    "plt.close()\n",
    "\n",
    "plt.plot(epsilon,Phi_tot,linestyle='--',label='theory')\n",
    "plt.plot(epsilon_PIC,Phi_PIC,marker='o',linestyle='none',label='PIC')\n",
    "\n",
    "plt.xlabel('$\\epsilon^{*}$ [eV]')\n",
    "plt.ylabel('$\\Phi_{tot}$ [V]')\n",
    "plt.legend(loc='best')\n",
    "plt.grid()\n",
    "plt.xlim([0,205])\n",
    "plt.ylim([0.0,220.])\n",
    "\n",
    "currentAxis = plt.gca()\n",
    "currentAxis.add_patch(patches.Rectangle( (0.0,0.0), lim, 500., hatch='/', edgecolor='0.2', facecolor='0.5', linestyle='--'))\n",
    "\n",
    "plt.savefig('Phi_epsilon.png')\n",
    "plt.show()\n",
    "\n",
    "#plot the Ploss_R/Ploss = f(epsilon)\n",
    "plt.close()\n",
    "\n",
    "plt.plot(epsilon,Ploss_eReq/Ploss_eq*100.)\n",
    "\n",
    "plt.ylabel('$P_{loss}^R / P_{loss}$ [%]')\n",
    "plt.xlabel('$\\epsilon^{*}$ [eV]')\n",
    "plt.grid()\n",
    "plt.xlim([0,205])\n",
    "\n",
    "currentAxis = plt.gca()\n",
    "currentAxis.add_patch(patches.Rectangle( (0.0,0.0), lim, 100., hatch='/', edgecolor='0.2', facecolor='0.5', linestyle='--'))\n",
    "\n",
    "plt.savefig('Ploss_Plosstot.png')\n",
    "plt.show()\n"
   ]
  },
  {
   "cell_type": "code",
   "execution_count": 46,
   "metadata": {},
   "outputs": [
    {
     "data": {
      "text/plain": [
       "2.5"
      ]
     },
     "execution_count": 46,
     "metadata": {},
     "output_type": "execute_result"
    }
   ],
   "source": []
  },
  {
   "cell_type": "code",
   "execution_count": 1,
   "metadata": {},
   "outputs": [
    {
     "data": {
      "text/plain": [
       "3.4499999999999997"
      ]
     },
     "execution_count": 1,
     "metadata": {},
     "output_type": "execute_result"
    }
   ],
   "source": []
  },
  {
   "cell_type": "code",
   "execution_count": null,
   "metadata": {
    "collapsed": true
   },
   "outputs": [],
   "source": []
  }
 ],
 "metadata": {
  "kernelspec": {
   "display_name": "Python 3",
   "language": "python",
   "name": "python3"
  },
  "language_info": {
   "codemirror_mode": {
    "name": "ipython",
    "version": 3
   },
   "file_extension": ".py",
   "mimetype": "text/x-python",
   "name": "python",
   "nbconvert_exporter": "python",
   "pygments_lexer": "ipython3",
   "version": "3.5.2"
  }
 },
 "nbformat": 4,
 "nbformat_minor": 2
}
